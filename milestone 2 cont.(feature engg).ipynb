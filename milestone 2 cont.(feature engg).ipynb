{
 "cells": [
  {
   "cell_type": "code",
   "execution_count": 0,
   "metadata": {
    "application/vnd.databricks.v1+cell": {
     "cellMetadata": {
      "byteLimit": 2048000,
      "rowLimit": 10000
     },
     "inputWidgets": {},
     "nuid": "5973cabf-a318-4584-b5a5-c2b4c314ffa9",
     "showTitle": false,
     "tableResultSettingsMap": {},
     "title": ""
    }
   },
   "outputs": [
    {
     "output_type": "stream",
     "name": "stdout",
     "output_type": "stream",
     "text": [
      "<class 'pandas.core.frame.DataFrame'>\nRangeIndex: 8807 entries, 0 to 8806\nData columns (total 14 columns):\n #   Column         Non-Null Count  Dtype  \n---  ------         --------------  -----  \n 0   show_id        8807 non-null   object \n 1   type           8807 non-null   object \n 2   title          8807 non-null   object \n 3   director       8807 non-null   object \n 4   cast           8807 non-null   object \n 5   country        8807 non-null   object \n 6   date_added     8807 non-null   object \n 7   release_year   8807 non-null   int64  \n 8   rating         8807 non-null   object \n 9   duration       8807 non-null   object \n 10  listed_in      8807 non-null   object \n 11  description    8807 non-null   object \n 12  duration_num   8807 non-null   float64\n 13  duration_unit  8807 non-null   object \ndtypes: float64(1), int64(1), object(12)\nmemory usage: 963.4+ KB\nNone\n  show_id     type  ... duration_num duration_unit\n0      s1    Movie  ...         90.0           min\n1      s2  TV Show  ...          2.0       Seasons\n2      s3  TV Show  ...          1.0        Season\n3      s4  TV Show  ...          1.0        Season\n4      s5  TV Show  ...          2.0       Seasons\n\n[5 rows x 14 columns]\nshow_id          0\ntype             0\ntitle            0\ndirector         0\ncast             0\ncountry          0\ndate_added       0\nrelease_year     0\nrating           0\nduration         0\nlisted_in        0\ndescription      0\nduration_num     0\nduration_unit    0\ndtype: int64\n"
     ]
    }
   ],
   "source": [
    "import pandas as pd\n",
    "import matplotlib.pyplot as plt\n",
    "\n",
    "file_path = \"/Volumes/workspace/default/netflixdata/netflix_titles_cleaned.csv\"\n",
    "df = pd.read_csv(file_path)\n",
    "print(df.info())\n",
    "print(df.head())\n",
    "print(df.isnull().sum())"
   ]
  },
  {
   "cell_type": "code",
   "execution_count": 0,
   "metadata": {
    "application/vnd.databricks.v1+cell": {
     "cellMetadata": {
      "byteLimit": 2048000,
      "rowLimit": 10000
     },
     "inputWidgets": {},
     "nuid": "77e9e4b4-d889-430f-a11e-61dad8a89317",
     "showTitle": false,
     "tableResultSettingsMap": {},
     "title": ""
    }
   },
   "outputs": [
    {
     "output_type": "display_data",
     "data": {
      "text/html": [
       "<style scoped>\n",
       "  .table-result-container {\n",
       "    max-height: 300px;\n",
       "    overflow: auto;\n",
       "  }\n",
       "  table, th, td {\n",
       "    border: 1px solid black;\n",
       "    border-collapse: collapse;\n",
       "  }\n",
       "  th, td {\n",
       "    padding: 5px;\n",
       "  }\n",
       "  th {\n",
       "    text-align: left;\n",
       "  }\n",
       "</style><div class='table-result-container'><table class='table-result'><thead style='background-color: white'><tr><th>type</th><th>duration</th><th>Content_Length_Category</th></tr></thead><tbody><tr><td>Movie</td><td>90 min</td><td>Medium</td></tr><tr><td>TV Show</td><td>2 Seasons</td><td>Moderate</td></tr><tr><td>TV Show</td><td>1 Season</td><td>Limited</td></tr><tr><td>TV Show</td><td>1 Season</td><td>Limited</td></tr><tr><td>TV Show</td><td>2 Seasons</td><td>Moderate</td></tr><tr><td>TV Show</td><td>1 Season</td><td>Limited</td></tr><tr><td>Movie</td><td>91 min</td><td>Medium</td></tr><tr><td>Movie</td><td>125 min</td><td>Long</td></tr><tr><td>TV Show</td><td>9 Seasons</td><td>Long-running</td></tr><tr><td>Movie</td><td>104 min</td><td>Medium</td></tr></tbody></table></div>"
      ]
     },
     "metadata": {
      "application/vnd.databricks.v1+output": {
       "addedWidgets": {},
       "aggData": [],
       "aggError": "",
       "aggOverflow": false,
       "aggSchema": [],
       "aggSeriesLimitReached": false,
       "aggType": "",
       "arguments": {},
       "columnCustomDisplayInfos": {},
       "data": [
        [
         "Movie",
         "90 min",
         "Medium"
        ],
        [
         "TV Show",
         "2 Seasons",
         "Moderate"
        ],
        [
         "TV Show",
         "1 Season",
         "Limited"
        ],
        [
         "TV Show",
         "1 Season",
         "Limited"
        ],
        [
         "TV Show",
         "2 Seasons",
         "Moderate"
        ],
        [
         "TV Show",
         "1 Season",
         "Limited"
        ],
        [
         "Movie",
         "91 min",
         "Medium"
        ],
        [
         "Movie",
         "125 min",
         "Long"
        ],
        [
         "TV Show",
         "9 Seasons",
         "Long-running"
        ],
        [
         "Movie",
         "104 min",
         "Medium"
        ]
       ],
       "datasetInfos": [],
       "dbfsResultPath": null,
       "isJsonSchema": true,
       "metadata": {},
       "overflow": false,
       "plotOptions": {
        "customPlotOptions": {},
        "displayType": "table",
        "pivotAggregation": null,
        "pivotColumns": null,
        "xColumns": null,
        "yColumns": null
       },
       "removedWidgets": [],
       "schema": [
        {
         "metadata": "{}",
         "name": "type",
         "type": "\"string\""
        },
        {
         "metadata": "{}",
         "name": "duration",
         "type": "\"string\""
        },
        {
         "metadata": "{}",
         "name": "Content_Length_Category",
         "type": "\"string\""
        }
       ],
       "type": "table"
      }
     },
     "output_type": "display_data"
    }
   ],
   "source": [
    "\n",
    "df_feat = df.copy()\n",
    "\n",
    "# Handle missing duration values\n",
    "df_feat['duration'] = df_feat['duration'].fillna('Unknown')\n",
    "\n",
    "# Split logic for Movies and TV Shows\n",
    "def get_length_category(row):\n",
    "    if row['type'] == 'Movie':\n",
    "        if 'min' in row['duration']:\n",
    "            minutes = int(row['duration'].replace(' min', '').strip())\n",
    "            if minutes <= 60:\n",
    "                return 'Short'\n",
    "            elif minutes <= 120:\n",
    "                return 'Medium'\n",
    "            else:\n",
    "                return 'Long'\n",
    "        else:\n",
    "            return 'Unknown'\n",
    "    elif row['type'] == 'TV Show':\n",
    "        if 'Season' in row['duration']:\n",
    "            seasons = int(row['duration'].split()[0])\n",
    "            if seasons == 1:\n",
    "                return 'Limited'\n",
    "            elif seasons <= 4:\n",
    "                return 'Moderate'\n",
    "            else:\n",
    "                return 'Long-running'\n",
    "        else:\n",
    "            return 'Unknown'\n",
    "    else:\n",
    "        return 'Unknown'\n",
    "\n",
    "# Apply function\n",
    "df_feat['Content_Length_Category'] = df_feat.apply(get_length_category, axis=1)\n",
    "\n",
    "# Check result\n",
    "display(df_feat[['type', 'duration', 'Content_Length_Category']].head(10))\n"
   ]
  },
  {
   "cell_type": "code",
   "execution_count": 0,
   "metadata": {
    "application/vnd.databricks.v1+cell": {
     "cellMetadata": {
      "byteLimit": 2048000,
      "rowLimit": 10000
     },
     "inputWidgets": {},
     "nuid": "5de01a3b-54a3-40e7-aabc-3c44775bac40",
     "showTitle": false,
     "tableResultSettingsMap": {},
     "title": ""
    }
   },
   "outputs": [
    {
     "output_type": "display_data",
     "data": {
      "text/html": [
       "<style scoped>\n",
       "  .table-result-container {\n",
       "    max-height: 300px;\n",
       "    overflow: auto;\n",
       "  }\n",
       "  table, th, td {\n",
       "    border: 1px solid black;\n",
       "    border-collapse: collapse;\n",
       "  }\n",
       "  th, td {\n",
       "    padding: 5px;\n",
       "  }\n",
       "  th {\n",
       "    text-align: left;\n",
       "  }\n",
       "</style><div class='table-result-container'><table class='table-result'><thead style='background-color: white'><tr><th>title</th><th>is_original</th></tr></thead><tbody><tr><td>Dick Johnson Is Dead</td><td>Licensed</td></tr><tr><td>Blood & Water</td><td>Licensed</td></tr><tr><td>Ganglands</td><td>Licensed</td></tr><tr><td>Jailbirds New Orleans</td><td>Licensed</td></tr><tr><td>Kota Factory</td><td>Licensed</td></tr><tr><td>Midnight Mass</td><td>Licensed</td></tr><tr><td>My Little Pony: A New Generation</td><td>Licensed</td></tr><tr><td>Sankofa</td><td>Licensed</td></tr><tr><td>The Great British Baking Show</td><td>Licensed</td></tr><tr><td>The Starling</td><td>Licensed</td></tr></tbody></table></div>"
      ]
     },
     "metadata": {
      "application/vnd.databricks.v1+output": {
       "addedWidgets": {},
       "aggData": [],
       "aggError": "",
       "aggOverflow": false,
       "aggSchema": [],
       "aggSeriesLimitReached": false,
       "aggType": "",
       "arguments": {},
       "columnCustomDisplayInfos": {},
       "data": [
        [
         "Dick Johnson Is Dead",
         "Licensed"
        ],
        [
         "Blood & Water",
         "Licensed"
        ],
        [
         "Ganglands",
         "Licensed"
        ],
        [
         "Jailbirds New Orleans",
         "Licensed"
        ],
        [
         "Kota Factory",
         "Licensed"
        ],
        [
         "Midnight Mass",
         "Licensed"
        ],
        [
         "My Little Pony: A New Generation",
         "Licensed"
        ],
        [
         "Sankofa",
         "Licensed"
        ],
        [
         "The Great British Baking Show",
         "Licensed"
        ],
        [
         "The Starling",
         "Licensed"
        ]
       ],
       "datasetInfos": [],
       "dbfsResultPath": null,
       "isJsonSchema": true,
       "metadata": {},
       "overflow": false,
       "plotOptions": {
        "customPlotOptions": {},
        "displayType": "table",
        "pivotAggregation": null,
        "pivotColumns": null,
        "xColumns": null,
        "yColumns": null
       },
       "removedWidgets": [],
       "schema": [
        {
         "metadata": "{}",
         "name": "title",
         "type": "\"string\""
        },
        {
         "metadata": "{}",
         "name": "is_original",
         "type": "\"string\""
        }
       ],
       "type": "table"
      }
     },
     "output_type": "display_data"
    }
   ],
   "source": [
    "# Create a new column based on title text only\n",
    "df_feat['is_original'] = df_feat['title'].apply(\n",
    "    lambda x: 'Original' if 'Netflix' in str(x) else 'Licensed'\n",
    ")\n",
    "\n",
    "# Show only title and is_original columns\n",
    "display(df_feat[['title', 'is_original']].head(10))\n",
    "\n"
   ]
  },
  {
   "cell_type": "code",
   "execution_count": 0,
   "metadata": {
    "application/vnd.databricks.v1+cell": {
     "cellMetadata": {
      "byteLimit": 2048000,
      "rowLimit": 10000
     },
     "inputWidgets": {},
     "nuid": "00f59451-b976-4b45-87b9-a205b455b4aa",
     "showTitle": false,
     "tableResultSettingsMap": {},
     "title": ""
    }
   },
   "outputs": [
    {
     "output_type": "display_data",
     "data": {
      "image/png": "[encoded data removed]",
      "text/plain": [
       "<Figure size 800x400 with 1 Axes>"
      ]
     },
     "metadata": {},
     "output_type": "display_data"
    },
    {
     "output_type": "display_data",
     "data": {
      "image/png": "[encoded data removed]",
      "text/plain": [
       "<Figure size 600x400 with 1 Axes>"
      ]
     },
     "metadata": {},
     "output_type": "display_data"
    }
   ],
   "source": [
    "import matplotlib.pyplot as plt\n",
    "\n",
    "# Content Length Category\n",
    "plt.figure(figsize=(8,4))\n",
    "df_feat['Content_Length_Category'].value_counts().plot(kind='bar', color='#45B7D1')\n",
    "plt.title(\"Distribution of Content Length Category\", fontsize=14)\n",
    "plt.xlabel(\"Category\")\n",
    "plt.ylabel(\"Number of Titles\")\n",
    "plt.show()\n",
    "\n",
    "# Original vs Licensed\n",
    "plt.figure(figsize=(6,4))\n",
    "df_feat['is_original'].value_counts().plot(kind='bar', color=['#FF6B6B','#4ECDC4'])\n",
    "plt.title(\"Original vs Licensed Content\", fontsize=14)\n",
    "plt.xlabel(\"Type\")\n",
    "plt.ylabel(\"Count\")\n",
    "plt.show()\n"
   ]
  },
  {
   "cell_type": "code",
   "execution_count": 0,
   "metadata": {
    "application/vnd.databricks.v1+cell": {
     "cellMetadata": {
      "byteLimit": 2048000,
      "rowLimit": 10000
     },
     "inputWidgets": {},
     "nuid": "0388c557-cc8b-4014-b53f-ef2c94784a4f",
     "showTitle": false,
     "tableResultSettingsMap": {},
     "title": ""
    }
   },
   "outputs": [
    {
     "output_type": "display_data",
     "data": {
      "text/plain": [
       "release_year\n",
       "2016    1\n",
       "2017    1\n",
       "2020    1\n",
       "2021    1\n",
       "Name: count, dtype: int64"
      ]
     },
     "metadata": {},
     "output_type": "display_data"
    }
   ],
   "source": [
    "#Number of originals released each year\n",
    "# Filter only Originals\n",
    "originals = df_feat[df_feat['is_original'] == 'Original']\n",
    "\n",
    "# Count number of Originals released each year\n",
    "originals_per_year = originals['release_year'].value_counts().sort_index()\n",
    "\n",
    "# Display as table\n",
    "display(originals_per_year)\n"
   ]
  },
  {
   "cell_type": "code",
   "execution_count": 0,
   "metadata": {
    "application/vnd.databricks.v1+cell": {
     "cellMetadata": {
      "byteLimit": 2048000,
      "rowLimit": 10000
     },
     "inputWidgets": {},
     "nuid": "ef4de223-2724-48e2-b877-036b6e3d89ee",
     "showTitle": false,
     "tableResultSettingsMap": {},
     "title": ""
    }
   },
   "outputs": [
    {
     "output_type": "display_data",
     "data": {
      "image/png": "[encoded data removed]",
      "text/plain": [
       "<Figure size 1000x500 with 1 Axes>"
      ]
     },
     "metadata": {},
     "output_type": "display_data"
    }
   ],
   "source": [
    "import matplotlib.pyplot as plt\n",
    "\n",
    "plt.figure(figsize=(10,5))\n",
    "plt.plot(originals_per_year.index, originals_per_year.values, marker='o', color='#FF6B6B')\n",
    "plt.title(\"Number of Netflix Originals Released Each Year\", fontsize=14)\n",
    "plt.xlabel(\"Release Year\")\n",
    "plt.ylabel(\"Count of Originals\")\n",
    "plt.grid(True, alpha=0.3)\n",
    "plt.show()\n"
   ]
  },
  {
   "cell_type": "code",
   "execution_count": 0,
   "metadata": {
    "application/vnd.databricks.v1+cell": {
     "cellMetadata": {
      "byteLimit": 2048000,
      "rowLimit": 10000
     },
     "inputWidgets": {},
     "nuid": "80418079-3169-449d-882f-e16f66e4ca8a",
     "showTitle": false,
     "tableResultSettingsMap": {},
     "title": ""
    }
   },
   "outputs": [
    {
     "output_type": "display_data",
     "data": {
      "text/html": [
       "<style scoped>\n",
       "  .table-result-container {\n",
       "    max-height: 300px;\n",
       "    overflow: auto;\n",
       "  }\n",
       "  table, th, td {\n",
       "    border: 1px solid black;\n",
       "    border-collapse: collapse;\n",
       "  }\n",
       "  th, td {\n",
       "    padding: 5px;\n",
       "  }\n",
       "  th {\n",
       "    text-align: left;\n",
       "  }\n",
       "</style><div class='table-result-container'><table class='table-result'><thead style='background-color: white'><tr><th>country</th><th>Region</th></tr></thead><tbody><tr><td>United States</td><td>North America</td></tr><tr><td>South Africa</td><td>Other</td></tr><tr><td>Unknown</td><td>Unknown</td></tr><tr><td>Unknown</td><td>Unknown</td></tr><tr><td>India</td><td>Asia</td></tr><tr><td>Unknown</td><td>Unknown</td></tr><tr><td>Unknown</td><td>Unknown</td></tr><tr><td>United States, Ghana, Burkina Faso, United Kingdom, Germany, Ethiopia</td><td>North America</td></tr><tr><td>United Kingdom</td><td>Europe</td></tr><tr><td>United States</td><td>North America</td></tr></tbody></table></div>"
      ]
     },
     "metadata": {
      "application/vnd.databricks.v1+output": {
       "addedWidgets": {},
       "aggData": [],
       "aggError": "",
       "aggOverflow": false,
       "aggSchema": [],
       "aggSeriesLimitReached": false,
       "aggType": "",
       "arguments": {},
       "columnCustomDisplayInfos": {},
       "data": [
        [
         "United States",
         "North America"
        ],
        [
         "South Africa",
         "Other"
        ],
        [
         "Unknown",
         "Unknown"
        ],
        [
         "Unknown",
         "Unknown"
        ],
        [
         "India",
         "Asia"
        ],
        [
         "Unknown",
         "Unknown"
        ],
        [
         "Unknown",
         "Unknown"
        ],
        [
         "United States, Ghana, Burkina Faso, United Kingdom, Germany, Ethiopia",
         "North America"
        ],
        [
         "United Kingdom",
         "Europe"
        ],
        [
         "United States",
         "North America"
        ]
       ],
       "datasetInfos": [],
       "dbfsResultPath": null,
       "isJsonSchema": true,
       "metadata": {},
       "overflow": false,
       "plotOptions": {
        "customPlotOptions": {},
        "displayType": "table",
        "pivotAggregation": null,
        "pivotColumns": null,
        "xColumns": null,
        "yColumns": null
       },
       "removedWidgets": [],
       "schema": [
        {
         "metadata": "{}",
         "name": "country",
         "type": "\"string\""
        },
        {
         "metadata": "{}",
         "name": "Region",
         "type": "\"string\""
        }
       ],
       "type": "table"
      }
     },
     "output_type": "display_data"
    }
   ],
   "source": [
    "\n",
    "df_feat = df_feat.copy()\n",
    "\n",
    "# fill missing countries\n",
    "df_feat['country'] = df_feat['country'].fillna('Unknown')\n",
    "\n",
    "# define region mapping\n",
    "region_map = {\n",
    "    'India': 'Asia',\n",
    "    'Japan': 'Asia',\n",
    "    'South Korea': 'Asia',\n",
    "    'China': 'Asia',\n",
    "    'United States': 'North America',\n",
    "    'Canada': 'North America',\n",
    "    'Mexico': 'North America',\n",
    "    'United Kingdom': 'Europe',\n",
    "    'France': 'Europe',\n",
    "    'Germany': 'Europe',\n",
    "    'Spain': 'Europe',\n",
    "    'Brazil': 'South America',\n",
    "    'Argentina': 'South America',\n",
    "    'Australia': 'Oceania',\n",
    "    'New Zealand': 'Oceania',\n",
    "}\n",
    "\n",
    "# function to map the first country to its region\n",
    "def get_region(country_str):\n",
    "    if pd.isna(country_str) or country_str == 'Unknown':\n",
    "        return 'Unknown'\n",
    "    first_country = country_str.split(',')[0].strip()\n",
    "    return region_map.get(first_country, 'Other')\n",
    "\n",
    "# apply mapping\n",
    "df_feat['Region'] = df_feat['country'].apply(get_region)\n",
    "\n",
    "# check few results\n",
    "display(df_feat[['country', 'Region']].head(10))\n"
   ]
  },
  {
   "cell_type": "code",
   "execution_count": 0,
   "metadata": {
    "application/vnd.databricks.v1+cell": {
     "cellMetadata": {
      "byteLimit": 2048000,
      "rowLimit": 10000
     },
     "inputWidgets": {},
     "nuid": "f5c3dde0-b14d-4240-98e2-5135ca15f6c3",
     "showTitle": false,
     "tableResultSettingsMap": {},
     "title": ""
    }
   },
   "outputs": [
    {
     "output_type": "display_data",
     "data": {
      "text/plain": [
       "Region\n",
       "North America    3616\n",
       "Asia             1578\n",
       "Other            1364\n",
       "Europe           1124\n",
       "Unknown           831\n",
       "South America     160\n",
       "Oceania           134\n",
       "Name: count, dtype: int64"
      ]
     },
     "metadata": {},
     "output_type": "display_data"
    },
    {
     "output_type": "display_data",
     "data": {
      "image/png": "[encoded data removed]",
      "text/plain": [
       "<Figure size 1000x600 with 1 Axes>"
      ]
     },
     "metadata": {},
     "output_type": "display_data"
    }
   ],
   "source": [
    "import matplotlib.pyplot as plt\n",
    "\n",
    "region_counts = df_feat['Region'].value_counts()\n",
    "display(region_counts)\n",
    "plt.figure(figsize=(10,6))\n",
    "region_counts.plot(kind='barh', color='#4ECDC4')\n",
    "plt.title(\"Number of Titles by Region\", fontsize=14)\n",
    "plt.xlabel(\"Number of Titles\")\n",
    "plt.ylabel(\"Region\")\n",
    "plt.gca().invert_yaxis()  # highest count on top\n",
    "plt.show()\n",
    "\n"
   ]
  },
  {
   "cell_type": "code",
   "execution_count": 0,
   "metadata": {
    "application/vnd.databricks.v1+cell": {
     "cellMetadata": {
      "byteLimit": 2048000,
      "rowLimit": 10000
     },
     "inputWidgets": {},
     "nuid": "85329d51-aa9c-4b87-a737-d4061d7478a7",
     "showTitle": false,
     "tableResultSettingsMap": {},
     "title": ""
    }
   },
   "outputs": [
    {
     "output_type": "display_data",
     "data": {
      "text/html": [
       "<style scoped>\n",
       "  .table-result-container {\n",
       "    max-height: 300px;\n",
       "    overflow: auto;\n",
       "  }\n",
       "  table, th, td {\n",
       "    border: 1px solid black;\n",
       "    border-collapse: collapse;\n",
       "  }\n",
       "  th, td {\n",
       "    padding: 5px;\n",
       "  }\n",
       "  th {\n",
       "    text-align: left;\n",
       "  }\n",
       "</style><div class='table-result-container'><table class='table-result'><thead style='background-color: white'><tr><th>title</th><th>release_year</th><th>date_added</th><th>Year</th></tr></thead><tbody><tr><td>Dick Johnson Is Dead</td><td>2020</td><td>2021-09-25T00:00:00.000Z</td><td>2021</td></tr><tr><td>Blood & Water</td><td>2021</td><td>2021-09-24T00:00:00.000Z</td><td>2021</td></tr><tr><td>Ganglands</td><td>2021</td><td>2021-09-24T00:00:00.000Z</td><td>2021</td></tr><tr><td>Jailbirds New Orleans</td><td>2021</td><td>2021-09-24T00:00:00.000Z</td><td>2021</td></tr><tr><td>Kota Factory</td><td>2021</td><td>2021-09-24T00:00:00.000Z</td><td>2021</td></tr><tr><td>Midnight Mass</td><td>2021</td><td>2021-09-24T00:00:00.000Z</td><td>2021</td></tr><tr><td>My Little Pony: A New Generation</td><td>2021</td><td>2021-09-24T00:00:00.000Z</td><td>2021</td></tr><tr><td>Sankofa</td><td>1993</td><td>2021-09-24T00:00:00.000Z</td><td>2021</td></tr><tr><td>The Great British Baking Show</td><td>2021</td><td>2021-09-24T00:00:00.000Z</td><td>2021</td></tr><tr><td>The Starling</td><td>2021</td><td>2021-09-24T00:00:00.000Z</td><td>2021</td></tr></tbody></table></div>"
      ]
     },
     "metadata": {
      "application/vnd.databricks.v1+output": {
       "addedWidgets": {},
       "aggData": [],
       "aggError": "",
       "aggOverflow": false,
       "aggSchema": [],
       "aggSeriesLimitReached": false,
       "aggType": "",
       "arguments": {},
       "columnCustomDisplayInfos": {},
       "data": [
        [
         "Dick Johnson Is Dead",
         2020,
         "2021-09-25T00:00:00.000Z",
         2021
        ],
        [
         "Blood & Water",
         2021,
         "2021-09-24T00:00:00.000Z",
         2021
        ],
        [
         "Ganglands",
         2021,
         "2021-09-24T00:00:00.000Z",
         2021
        ],
        [
         "Jailbirds New Orleans",
         2021,
         "2021-09-24T00:00:00.000Z",
         2021
        ],
        [
         "Kota Factory",
         2021,
         "2021-09-24T00:00:00.000Z",
         2021
        ],
        [
         "Midnight Mass",
         2021,
         "2021-09-24T00:00:00.000Z",
         2021
        ],
        [
         "My Little Pony: A New Generation",
         2021,
         "2021-09-24T00:00:00.000Z",
         2021
        ],
        [
         "Sankofa",
         1993,
         "2021-09-24T00:00:00.000Z",
         2021
        ],
        [
         "The Great British Baking Show",
         2021,
         "2021-09-24T00:00:00.000Z",
         2021
        ],
        [
         "The Starling",
         2021,
         "2021-09-24T00:00:00.000Z",
         2021
        ]
       ],
       "datasetInfos": [],
       "dbfsResultPath": null,
       "isJsonSchema": true,
       "metadata": {},
       "overflow": false,
       "plotOptions": {
        "customPlotOptions": {},
        "displayType": "table",
        "pivotAggregation": null,
        "pivotColumns": null,
        "xColumns": null,
        "yColumns": null
       },
       "removedWidgets": [],
       "schema": [
        {
         "metadata": "{}",
         "name": "title",
         "type": "\"string\""
        },
        {
         "metadata": "{}",
         "name": "release_year",
         "type": "\"long\""
        },
        {
         "metadata": "{}",
         "name": "date_added",
         "type": "\"timestamp\""
        },
        {
         "metadata": "{}",
         "name": "Year",
         "type": "\"integer\""
        }
       ],
       "type": "table"
      }
     },
     "output_type": "display_data"
    }
   ],
   "source": [
    "# Convert 'date_added' to datetime\n",
    "df_feat['date_added'] = pd.to_datetime(df_feat['date_added'], errors='coerce')\n",
    "\n",
    "# Extract year from it\n",
    "df_feat['Year'] = df_feat['date_added'].dt.year\n",
    "\n",
    "# Check\n",
    "display(df_feat[['title', 'release_year', 'date_added', 'Year']].head(10))\n"
   ]
  },
  {
   "cell_type": "code",
   "execution_count": 0,
   "metadata": {
    "application/vnd.databricks.v1+cell": {
     "cellMetadata": {
      "byteLimit": 2048000,
      "rowLimit": 10000
     },
     "inputWidgets": {},
     "nuid": "122e8460-1e4f-4981-b7a5-d6e2ef534222",
     "showTitle": false,
     "tableResultSettingsMap": {},
     "title": ""
    }
   },
   "outputs": [
    {
     "output_type": "display_data",
     "data": {
      "text/html": [
       "<style scoped>\n",
       "  .table-result-container {\n",
       "    max-height: 300px;\n",
       "    overflow: auto;\n",
       "  }\n",
       "  table, th, td {\n",
       "    border: 1px solid black;\n",
       "    border-collapse: collapse;\n",
       "  }\n",
       "  th, td {\n",
       "    padding: 5px;\n",
       "  }\n",
       "  th {\n",
       "    text-align: left;\n",
       "  }\n",
       "</style><div class='table-result-container'><table class='table-result'><thead style='background-color: white'><tr><th>title</th><th>rating</th><th>Content_Age_Group</th></tr></thead><tbody><tr><td>Dick Johnson Is Dead</td><td>PG-13</td><td>Teens</td></tr><tr><td>Blood & Water</td><td>TV-MA</td><td>Adults</td></tr><tr><td>Ganglands</td><td>TV-MA</td><td>Adults</td></tr><tr><td>Jailbirds New Orleans</td><td>TV-MA</td><td>Adults</td></tr><tr><td>Kota Factory</td><td>TV-MA</td><td>Adults</td></tr><tr><td>Midnight Mass</td><td>TV-MA</td><td>Adults</td></tr><tr><td>My Little Pony: A New Generation</td><td>PG</td><td>Teens</td></tr><tr><td>Sankofa</td><td>TV-MA</td><td>Adults</td></tr><tr><td>The Great British Baking Show</td><td>TV-14</td><td>Adults</td></tr><tr><td>The Starling</td><td>PG-13</td><td>Teens</td></tr><tr><td>Vendetta: Truth, Lies And The Mafia</td><td>TV-MA</td><td>Adults</td></tr><tr><td>Bangkok Breaking</td><td>TV-MA</td><td>Adults</td></tr><tr><td>Je Suis Karl</td><td>TV-MA</td><td>Adults</td></tr><tr><td>Confessions Of An Invisible Girl</td><td>TV-PG</td><td>Teens</td></tr><tr><td>Crime Stories: India Detectives</td><td>TV-MA</td><td>Adults</td></tr></tbody></table></div>"
      ]
     },
     "metadata": {
      "application/vnd.databricks.v1+output": {
       "addedWidgets": {},
       "aggData": [],
       "aggError": "",
       "aggOverflow": false,
       "aggSchema": [],
       "aggSeriesLimitReached": false,
       "aggType": "",
       "arguments": {},
       "columnCustomDisplayInfos": {},
       "data": [
        [
         "Dick Johnson Is Dead",
         "PG-13",
         "Teens"
        ],
        [
         "Blood & Water",
         "TV-MA",
         "Adults"
        ],
        [
         "Ganglands",
         "TV-MA",
         "Adults"
        ],
        [
         "Jailbirds New Orleans",
         "TV-MA",
         "Adults"
        ],
        [
         "Kota Factory",
         "TV-MA",
         "Adults"
        ],
        [
         "Midnight Mass",
         "TV-MA",
         "Adults"
        ],
        [
         "My Little Pony: A New Generation",
         "PG",
         "Teens"
        ],
        [
         "Sankofa",
         "TV-MA",
         "Adults"
        ],
        [
         "The Great British Baking Show",
         "TV-14",
         "Adults"
        ],
        [
         "The Starling",
         "PG-13",
         "Teens"
        ],
        [
         "Vendetta: Truth, Lies And The Mafia",
         "TV-MA",
         "Adults"
        ],
        [
         "Bangkok Breaking",
         "TV-MA",
         "Adults"
        ],
        [
         "Je Suis Karl",
         "TV-MA",
         "Adults"
        ],
        [
         "Confessions Of An Invisible Girl",
         "TV-PG",
         "Teens"
        ],
        [
         "Crime Stories: India Detectives",
         "TV-MA",
         "Adults"
        ]
       ],
       "datasetInfos": [],
       "dbfsResultPath": null,
       "isJsonSchema": true,
       "metadata": {},
       "overflow": false,
       "plotOptions": {
        "customPlotOptions": {},
        "displayType": "table",
        "pivotAggregation": null,
        "pivotColumns": null,
        "xColumns": null,
        "yColumns": null
       },
       "removedWidgets": [],
       "schema": [
        {
         "metadata": "{}",
         "name": "title",
         "type": "\"string\""
        },
        {
         "metadata": "{}",
         "name": "rating",
         "type": "\"string\""
        },
        {
         "metadata": "{}",
         "name": "Content_Age_Group",
         "type": "\"string\""
        }
       ],
       "type": "table"
      }
     },
     "output_type": "display_data"
    }
   ],
   "source": [
    "# Fill missing ratings\n",
    "df_feat['rating'] = df_feat['rating'].fillna('Unknown')\n",
    "\n",
    "# Define mapping\n",
    "age_group_map = {\n",
    "    'TV-Y': 'Kids',\n",
    "    'TV-Y7': 'Kids',\n",
    "    'TV-G': 'Kids',\n",
    "    'G': 'Kids',\n",
    "    'TV-PG': 'Teens',\n",
    "    'PG': 'Teens',\n",
    "    'PG-13': 'Teens',\n",
    "    'TV-14': 'Adults',\n",
    "    'R': 'Adults',\n",
    "    'TV-MA': 'Adults',\n",
    "    'NC-17': 'Adults',\n",
    "    'NR': 'Unknown',\n",
    "    'Unknown': 'Unknown'\n",
    "}\n",
    "\n",
    "# Create new column\n",
    "df_feat['Content_Age_Group'] = df_feat['rating'].map(age_group_map).fillna('Unknown')\n",
    "\n",
    "# Check result\n",
    "display(df_feat[['title', 'rating', 'Content_Age_Group']].head(15))\n"
   ]
  },
  {
   "cell_type": "code",
   "execution_count": 0,
   "metadata": {
    "application/vnd.databricks.v1+cell": {
     "cellMetadata": {
      "byteLimit": 2048000,
      "rowLimit": 10000
     },
     "inputWidgets": {},
     "nuid": "b4a0d484-d311-46ad-9395-a4afab7bfdc2",
     "showTitle": false,
     "tableResultSettingsMap": {},
     "title": ""
    }
   },
   "outputs": [
    {
     "output_type": "display_data",
     "data": {
      "text/plain": [
       "Content_Age_Group\n",
       "Adults     70.0\n",
       "Teens      18.6\n",
       "Kids       10.2\n",
       "Unknown     1.1\n",
       "Name: count, dtype: float64"
      ]
     },
     "metadata": {},
     "output_type": "display_data"
    },
    {
     "output_type": "display_data",
     "data": {
      "image/png": "[encoded data removed]",
      "text/plain": [
       "<Figure size 600x400 with 1 Axes>"
      ]
     },
     "metadata": {},
     "output_type": "display_data"
    }
   ],
   "source": [
    "audience_counts = df_feat['Content_Age_Group'].value_counts()\n",
    "audience_percent = round((audience_counts / audience_counts.sum()) * 100, 1)\n",
    "\n",
    "display(audience_percent)\n",
    "\n",
    "import matplotlib.pyplot as plt\n",
    "\n",
    "plt.figure(figsize=(6,4))\n",
    "audience_counts.plot(kind='bar', color=['#FF6B6B', '#45B7D1', '#C7F464', '#AAAAAA'])\n",
    "plt.title(\"Audience Category Distribution on Netflix\", fontsize=14)\n",
    "plt.xlabel(\"Audience Category\")\n",
    "plt.ylabel(\"Number of Titles\")\n",
    "plt.show()\n"
   ]
  }
 ],
 "metadata": {
  "application/vnd.databricks.v1+notebook": {
   "computePreferences": null,
   "dashboards": [],
   "environmentMetadata": {
    "base_environment": "",
    "environment_version": "4"
   },
   "inputWidgetPreferences": null,
   "language": "python",
   "notebookMetadata": {
    "pythonIndentUnit": 4
   },
   "notebookName": "milestone 2 cont.",
   "widgets": {}
  },
  "language_info": {
   "name": "python"
  }
 },
 "nbformat": 4,
 "nbformat_minor": 0
}