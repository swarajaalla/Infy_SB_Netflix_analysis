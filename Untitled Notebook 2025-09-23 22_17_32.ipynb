{
 "cells": [
  {
   "cell_type": "code",
   "execution_count": 0,
   "metadata": {
    "application/vnd.databricks.v1+cell": {
     "cellMetadata": {
      "byteLimit": 2048000,
      "rowLimit": 10000
     },
     "inputWidgets": {},
     "nuid": "6ed3b5cc-a998-4a40-9481-cb29eba5ec9b",
     "showTitle": false,
     "tableResultSettingsMap": {},
     "title": ""
    }
   },
   "outputs": [
    {
     "output_type": "stream",
     "name": "stdout",
     "output_type": "stream",
     "text": [
      "Duplicates before: 0\nDuplicates after: 0\n✅ Cleaning complete! Cleaned file saved at: /Volumes/workspace/default/netflix/netflix_titles.csv\n"
     ]
    },
    {
     "output_type": "display_data",
     "data": {
      "text/html": [
       "<style scoped>\n",
       "  .table-result-container {\n",
       "    max-height: 300px;\n",
       "    overflow: auto;\n",
       "  }\n",
       "  table, th, td {\n",
       "    border: 1px solid black;\n",
       "    border-collapse: collapse;\n",
       "  }\n",
       "  th, td {\n",
       "    padding: 5px;\n",
       "  }\n",
       "  th {\n",
       "    text-align: left;\n",
       "  }\n",
       "</style><div class='table-result-container'><table class='table-result'><thead style='background-color: white'><tr><th>show_id</th><th>type</th><th>title</th><th>director</th><th>cast</th><th>country</th><th>date_added</th><th>release_year</th><th>rating</th><th>duration</th><th>listed_in</th><th>description</th></tr></thead><tbody><tr><td>s1</td><td>Movie</td><td>Dick Johnson Is Dead</td><td>Kirsten Johnson</td><td>Unknown</td><td>United States</td><td>2021-09-25T00:00:00.000Z</td><td>2020</td><td>PG-13</td><td>90 min</td><td>Documentaries</td><td>As her father nears the end of his life, filmmaker Kirsten Johnson stages his death in inventive and comical ways to help them both face the inevitable.</td></tr><tr><td>s2</td><td>TV Show</td><td>Blood & Water</td><td>Unknown</td><td>Ama Qamata, Khosi Ngema, Gail Mabalane, Thabang Molaba, Dillon Windvogel, Natasha Thahane, Arno Greeff, Xolile Tshabalala, Getmore Sithole, Cindy Mahlangu, Ryle De Morny, Greteli Fincham, Sello Maake Ka-Ncube, Odwa Gwanya, Mekaila Mathys, Sandi Schultz, Duane Williams, Shamilla Miller, Patrick Mofokeng</td><td>South Africa</td><td>2021-09-24T00:00:00.000Z</td><td>2021</td><td>TV-MA</td><td>2 Seasons</td><td>International TV Shows, TV Dramas, TV Mysteries</td><td>After crossing paths at a party, a Cape Town teen sets out to prove whether a private-school swimming star is her sister who was abducted at birth.</td></tr><tr><td>s3</td><td>TV Show</td><td>Ganglands</td><td>Julien Leclercq</td><td>Sami Bouajila, Tracy Gotoas, Samuel Jouy, Nabiha Akkari, Sofia Lesaffre, Salim Kechiouche, Noureddine Farihi, Geert Van Rampelberg, Bakary Diombera</td><td>Unknown</td><td>2021-09-24T00:00:00.000Z</td><td>2021</td><td>TV-MA</td><td>1 Seasons</td><td>Crime TV Shows, International TV Shows, TV Action & Adventure</td><td>To protect his family from a powerful drug lord, skilled thief Mehdi and his expert team of robbers are pulled into a violent and deadly turf war.</td></tr><tr><td>s4</td><td>TV Show</td><td>Jailbirds New Orleans</td><td>Unknown</td><td>Unknown</td><td>Unknown</td><td>2021-09-24T00:00:00.000Z</td><td>2021</td><td>TV-MA</td><td>1 Seasons</td><td>Docuseries, Reality TV</td><td>Feuds, flirtations and toilet talk go down among the incarcerated women at the Orleans Justice Center in New Orleans on this gritty reality series.</td></tr><tr><td>s5</td><td>TV Show</td><td>Kota Factory</td><td>Unknown</td><td>Mayur More, Jitendra Kumar, Ranjan Raj, Alam Khan, Ahsaas Channa, Revathi Pillai, Urvi Singh, Arun Kumar</td><td>India</td><td>2021-09-24T00:00:00.000Z</td><td>2021</td><td>TV-MA</td><td>2 Seasons</td><td>International TV Shows, Romantic TV Shows, TV Comedies</td><td>In a city of coaching centers known to train India’s finest collegiate minds, an earnest but unexceptional student and his friends navigate campus life.</td></tr></tbody></table></div>"
      ]
     },
     "metadata": {
      "application/vnd.databricks.v1+output": {
       "addedWidgets": {},
       "aggData": [],
       "aggError": "",
       "aggOverflow": false,
       "aggSchema": [],
       "aggSeriesLimitReached": false,
       "aggType": "",
       "arguments": {},
       "columnCustomDisplayInfos": {},
       "data": [
        [
         "s1",
         "Movie",
         "Dick Johnson Is Dead",
         "Kirsten Johnson",
         "Unknown",
         "United States",
         "2021-09-25T00:00:00.000Z",
         2020,
         "PG-13",
         "90 min",
         "Documentaries",
         "As her father nears the end of his life, filmmaker Kirsten Johnson stages his death in inventive and comical ways to help them both face the inevitable."
        ],
        [
         "s2",
         "TV Show",
         "Blood & Water",
         "Unknown",
         "Ama Qamata, Khosi Ngema, Gail Mabalane, Thabang Molaba, Dillon Windvogel, Natasha Thahane, Arno Greeff, Xolile Tshabalala, Getmore Sithole, Cindy Mahlangu, Ryle De Morny, Greteli Fincham, Sello Maake Ka-Ncube, Odwa Gwanya, Mekaila Mathys, Sandi Schultz, Duane Williams, Shamilla Miller, Patrick Mofokeng",
         "South Africa",
         "2021-09-24T00:00:00.000Z",
         2021,
         "TV-MA",
         "2 Seasons",
         "International TV Shows, TV Dramas, TV Mysteries",
         "After crossing paths at a party, a Cape Town teen sets out to prove whether a private-school swimming star is her sister who was abducted at birth."
        ],
        [
         "s3",
         "TV Show",
         "Ganglands",
         "Julien Leclercq",
         "Sami Bouajila, Tracy Gotoas, Samuel Jouy, Nabiha Akkari, Sofia Lesaffre, Salim Kechiouche, Noureddine Farihi, Geert Van Rampelberg, Bakary Diombera",
         "Unknown",
         "2021-09-24T00:00:00.000Z",
         2021,
         "TV-MA",
         "1 Seasons",
         "Crime TV Shows, International TV Shows, TV Action & Adventure",
         "To protect his family from a powerful drug lord, skilled thief Mehdi and his expert team of robbers are pulled into a violent and deadly turf war."
        ],
        [
         "s4",
         "TV Show",
         "Jailbirds New Orleans",
         "Unknown",
         "Unknown",
         "Unknown",
         "2021-09-24T00:00:00.000Z",
         2021,
         "TV-MA",
         "1 Seasons",
         "Docuseries, Reality TV",
         "Feuds, flirtations and toilet talk go down among the incarcerated women at the Orleans Justice Center in New Orleans on this gritty reality series."
        ],
        [
         "s5",
         "TV Show",
         "Kota Factory",
         "Unknown",
         "Mayur More, Jitendra Kumar, Ranjan Raj, Alam Khan, Ahsaas Channa, Revathi Pillai, Urvi Singh, Arun Kumar",
         "India",
         "2021-09-24T00:00:00.000Z",
         2021,
         "TV-MA",
         "2 Seasons",
         "International TV Shows, Romantic TV Shows, TV Comedies",
         "In a city of coaching centers known to train India’s finest collegiate minds, an earnest but unexceptional student and his friends navigate campus life."
        ]
       ],
       "datasetInfos": [],
       "dbfsResultPath": null,
       "isJsonSchema": true,
       "metadata": {},
       "overflow": false,
       "plotOptions": {
        "customPlotOptions": {},
        "displayType": "table",
        "pivotAggregation": null,
        "pivotColumns": null,
        "xColumns": null,
        "yColumns": null
       },
       "removedWidgets": [],
       "schema": [
        {
         "metadata": "{}",
         "name": "show_id",
         "type": "\"string\""
        },
        {
         "metadata": "{}",
         "name": "type",
         "type": "\"string\""
        },
        {
         "metadata": "{}",
         "name": "title",
         "type": "\"string\""
        },
        {
         "metadata": "{}",
         "name": "director",
         "type": "\"string\""
        },
        {
         "metadata": "{}",
         "name": "cast",
         "type": "\"string\""
        },
        {
         "metadata": "{}",
         "name": "country",
         "type": "\"string\""
        },
        {
         "metadata": "{}",
         "name": "date_added",
         "type": "\"timestamp\""
        },
        {
         "metadata": "{}",
         "name": "release_year",
         "type": "\"long\""
        },
        {
         "metadata": "{}",
         "name": "rating",
         "type": "\"string\""
        },
        {
         "metadata": "{}",
         "name": "duration",
         "type": "\"string\""
        },
        {
         "metadata": "{}",
         "name": "listed_in",
         "type": "\"string\""
        },
        {
         "metadata": "{}",
         "name": "description",
         "type": "\"string\""
        }
       ],
       "type": "table"
      }
     },
     "output_type": "display_data"
    }
   ],
   "source": [
    "# Databricks Notebook Code\n",
    "\n",
    "# Import libraries\n",
    "import pandas as pd\n",
    "\n",
    "# Load dataset (adjust path if needed, e.g., dbfs:/FileStore/tables/netflix_titles.csv)\n",
    "file_path = \"/Volumes/workspace/default/netflix/netflix_titles.csv\"\n",
    "df = pd.read_csv(file_path)\n",
    "\n",
    "# -------------------------------\n",
    "# 1. Check for duplicates\n",
    "# -------------------------------\n",
    "print(\"Duplicates before:\", df.duplicated().sum())\n",
    "df = df.drop_duplicates()\n",
    "print(\"Duplicates after:\", df.duplicated().sum())\n",
    "\n",
    "# -------------------------------\n",
    "# 2. Handle missing values\n",
    "# -------------------------------\n",
    "# Fill text columns with 'Unknown'\n",
    "for col in [\"director\", \"cast\", \"country\"]:\n",
    "    df[col] = df[col].fillna(\"Unknown\")\n",
    "\n",
    "# Fill date_added missing values with a placeholder\n",
    "df[\"date_added\"] = pd.to_datetime(df[\"date_added\"], errors=\"coerce\")\n",
    "df[\"date_added\"] = df[\"date_added\"].fillna(pd.Timestamp(\"1900-01-01\"))\n",
    "\n",
    "# Fill rating with most common value\n",
    "df[\"rating\"] = df[\"rating\"].fillna(df[\"rating\"].mode()[0])\n",
    "\n",
    "# Fill duration with 'Unknown'\n",
    "df[\"duration\"] = df[\"duration\"].fillna(\"Unknown\")\n",
    "\n",
    "# -------------------------------\n",
    "# 3. Data Cleaning\n",
    "# -------------------------------\n",
    "# Extract duration in minutes or seasons\n",
    "def clean_duration(x):\n",
    "    if \"Season\" in str(x):\n",
    "        return str(x).replace(\"Seasons\", \"\").replace(\"Season\", \"\").strip() + \" Seasons\"\n",
    "    elif \"min\" in str(x):\n",
    "        return str(x).replace(\" min\", \"\").strip() + \" min\"\n",
    "    else:\n",
    "        return \"Unknown\"\n",
    "\n",
    "df[\"duration\"] = df[\"duration\"].apply(clean_duration)\n",
    "\n",
    "# Trim whitespace in string columns\n",
    "df = df.applymap(lambda x: x.strip() if isinstance(x, str) else x)\n",
    "\n",
    "# -------------------------------\n",
    "# 4. Save cleaned dataset\n",
    "# -------------------------------\n",
    "# Save back to Databricks FileStore\n",
    "cleaned_path = \"/Volumes/workspace/default/netflix/netflix_titles.csv\"\n",
    "df.to_csv(cleaned_path, index=False)\n",
    "\n",
    "print(\"✅ Cleaning complete! Cleaned file saved at:\", cleaned_path)\n",
    "display(df.head())\n"
   ]
  }
 ],
 "metadata": {
  "application/vnd.databricks.v1+notebook": {
   "computePreferences": null,
   "dashboards": [],
   "environmentMetadata": {
    "base_environment": "",
    "environment_version": "3"
   },
   "inputWidgetPreferences": null,
   "language": "python",
   "notebookMetadata": {
    "pythonIndentUnit": 4
   },
   "notebookName": "Untitled Notebook 2025-09-23 22:17:32",
   "widgets": {}
  },
  "language_info": {
   "name": "python"
  }
 },
 "nbformat": 4,
 "nbformat_minor": 0
}