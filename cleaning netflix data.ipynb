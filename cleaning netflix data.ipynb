{
 "cells": [
  {
   "cell_type": "code",
   "execution_count": 0,
   "metadata": {
    "application/vnd.databricks.v1+cell": {
     "cellMetadata": {
      "byteLimit": 2048000,
      "rowLimit": 10000
     },
     "inputWidgets": {},
     "nuid": "6ed3b5cc-a998-4a40-9481-cb29eba5ec9b",
     "showTitle": true,
     "tableResultSettingsMap": {},
     "title": "read and display"
    }
   },
   "outputs": [
    {
     "output_type": "display_data",
     "data": {
      "text/html": [
       "<style scoped>\n",
       "  .table-result-container {\n",
       "    max-height: 300px;\n",
       "    overflow: auto;\n",
       "  }\n",
       "  table, th, td {\n",
       "    border: 1px solid black;\n",
       "    border-collapse: collapse;\n",
       "  }\n",
       "  th, td {\n",
       "    padding: 5px;\n",
       "  }\n",
       "  th {\n",
       "    text-align: left;\n",
       "  }\n",
       "</style><div class='table-result-container'><table class='table-result'><thead style='background-color: white'><tr><th>show_id</th><th>type</th><th>title</th><th>director</th><th>cast</th><th>country</th><th>date_added</th><th>release_year</th><th>rating</th><th>duration</th><th>listed_in</th><th>description</th></tr></thead><tbody><tr><td>s1</td><td>Movie</td><td>Dick Johnson Is Dead</td><td>Kirsten Johnson</td><td>Unknown</td><td>United States</td><td>2021-09-25</td><td>2020</td><td>PG-13</td><td>90 min</td><td>Documentaries</td><td>As her father nears the end of his life, filmmaker Kirsten Johnson stages his death in inventive and comical ways to help them both face the inevitable.</td></tr><tr><td>s2</td><td>TV Show</td><td>Blood & Water</td><td>Unknown</td><td>Ama Qamata, Khosi Ngema, Gail Mabalane, Thabang Molaba, Dillon Windvogel, Natasha Thahane, Arno Greeff, Xolile Tshabalala, Getmore Sithole, Cindy Mahlangu, Ryle De Morny, Greteli Fincham, Sello Maake Ka-Ncube, Odwa Gwanya, Mekaila Mathys, Sandi Schultz, Duane Williams, Shamilla Miller, Patrick Mofokeng</td><td>South Africa</td><td>2021-09-24</td><td>2021</td><td>TV-MA</td><td>2 Seasons</td><td>International TV Shows, TV Dramas, TV Mysteries</td><td>After crossing paths at a party, a Cape Town teen sets out to prove whether a private-school swimming star is her sister who was abducted at birth.</td></tr><tr><td>s3</td><td>TV Show</td><td>Ganglands</td><td>Julien Leclercq</td><td>Sami Bouajila, Tracy Gotoas, Samuel Jouy, Nabiha Akkari, Sofia Lesaffre, Salim Kechiouche, Noureddine Farihi, Geert Van Rampelberg, Bakary Diombera</td><td>Unknown</td><td>2021-09-24</td><td>2021</td><td>TV-MA</td><td>1 Seasons</td><td>Crime TV Shows, International TV Shows, TV Action & Adventure</td><td>To protect his family from a powerful drug lord, skilled thief Mehdi and his expert team of robbers are pulled into a violent and deadly turf war.</td></tr><tr><td>s4</td><td>TV Show</td><td>Jailbirds New Orleans</td><td>Unknown</td><td>Unknown</td><td>Unknown</td><td>2021-09-24</td><td>2021</td><td>TV-MA</td><td>1 Seasons</td><td>Docuseries, Reality TV</td><td>Feuds, flirtations and toilet talk go down among the incarcerated women at the Orleans Justice Center in New Orleans on this gritty reality series.</td></tr><tr><td>s5</td><td>TV Show</td><td>Kota Factory</td><td>Unknown</td><td>Mayur More, Jitendra Kumar, Ranjan Raj, Alam Khan, Ahsaas Channa, Revathi Pillai, Urvi Singh, Arun Kumar</td><td>India</td><td>2021-09-24</td><td>2021</td><td>TV-MA</td><td>2 Seasons</td><td>International TV Shows, Romantic TV Shows, TV Comedies</td><td>In a city of coaching centers known to train India’s finest collegiate minds, an earnest but unexceptional student and his friends navigate campus life.</td></tr></tbody></table></div>"
      ]
     },
     "metadata": {
      "application/vnd.databricks.v1+output": {
       "addedWidgets": {},
       "aggData": [],
       "aggError": "",
       "aggOverflow": false,
       "aggSchema": [],
       "aggSeriesLimitReached": false,
       "aggType": "",
       "arguments": {},
       "columnCustomDisplayInfos": {},
       "data": [
        [
         "s1",
         "Movie",
         "Dick Johnson Is Dead",
         "Kirsten Johnson",
         "Unknown",
         "United States",
         "2021-09-25",
         2020,
         "PG-13",
         "90 min",
         "Documentaries",
         "As her father nears the end of his life, filmmaker Kirsten Johnson stages his death in inventive and comical ways to help them both face the inevitable."
        ],
        [
         "s2",
         "TV Show",
         "Blood & Water",
         "Unknown",
         "Ama Qamata, Khosi Ngema, Gail Mabalane, Thabang Molaba, Dillon Windvogel, Natasha Thahane, Arno Greeff, Xolile Tshabalala, Getmore Sithole, Cindy Mahlangu, Ryle De Morny, Greteli Fincham, Sello Maake Ka-Ncube, Odwa Gwanya, Mekaila Mathys, Sandi Schultz, Duane Williams, Shamilla Miller, Patrick Mofokeng",
         "South Africa",
         "2021-09-24",
         2021,
         "TV-MA",
         "2 Seasons",
         "International TV Shows, TV Dramas, TV Mysteries",
         "After crossing paths at a party, a Cape Town teen sets out to prove whether a private-school swimming star is her sister who was abducted at birth."
        ],
        [
         "s3",
         "TV Show",
         "Ganglands",
         "Julien Leclercq",
         "Sami Bouajila, Tracy Gotoas, Samuel Jouy, Nabiha Akkari, Sofia Lesaffre, Salim Kechiouche, Noureddine Farihi, Geert Van Rampelberg, Bakary Diombera",
         "Unknown",
         "2021-09-24",
         2021,
         "TV-MA",
         "1 Seasons",
         "Crime TV Shows, International TV Shows, TV Action & Adventure",
         "To protect his family from a powerful drug lord, skilled thief Mehdi and his expert team of robbers are pulled into a violent and deadly turf war."
        ],
        [
         "s4",
         "TV Show",
         "Jailbirds New Orleans",
         "Unknown",
         "Unknown",
         "Unknown",
         "2021-09-24",
         2021,
         "TV-MA",
         "1 Seasons",
         "Docuseries, Reality TV",
         "Feuds, flirtations and toilet talk go down among the incarcerated women at the Orleans Justice Center in New Orleans on this gritty reality series."
        ],
        [
         "s5",
         "TV Show",
         "Kota Factory",
         "Unknown",
         "Mayur More, Jitendra Kumar, Ranjan Raj, Alam Khan, Ahsaas Channa, Revathi Pillai, Urvi Singh, Arun Kumar",
         "India",
         "2021-09-24",
         2021,
         "TV-MA",
         "2 Seasons",
         "International TV Shows, Romantic TV Shows, TV Comedies",
         "In a city of coaching centers known to train India’s finest collegiate minds, an earnest but unexceptional student and his friends navigate campus life."
        ]
       ],
       "datasetInfos": [],
       "dbfsResultPath": null,
       "isJsonSchema": true,
       "metadata": {},
       "overflow": false,
       "plotOptions": {
        "customPlotOptions": {},
        "displayType": "table",
        "pivotAggregation": null,
        "pivotColumns": null,
        "xColumns": null,
        "yColumns": null
       },
       "removedWidgets": [],
       "schema": [
        {
         "metadata": "{}",
         "name": "show_id",
         "type": "\"string\""
        },
        {
         "metadata": "{}",
         "name": "type",
         "type": "\"string\""
        },
        {
         "metadata": "{}",
         "name": "title",
         "type": "\"string\""
        },
        {
         "metadata": "{}",
         "name": "director",
         "type": "\"string\""
        },
        {
         "metadata": "{}",
         "name": "cast",
         "type": "\"string\""
        },
        {
         "metadata": "{}",
         "name": "country",
         "type": "\"string\""
        },
        {
         "metadata": "{}",
         "name": "date_added",
         "type": "\"string\""
        },
        {
         "metadata": "{}",
         "name": "release_year",
         "type": "\"long\""
        },
        {
         "metadata": "{}",
         "name": "rating",
         "type": "\"string\""
        },
        {
         "metadata": "{}",
         "name": "duration",
         "type": "\"string\""
        },
        {
         "metadata": "{}",
         "name": "listed_in",
         "type": "\"string\""
        },
        {
         "metadata": "{}",
         "name": "description",
         "type": "\"string\""
        }
       ],
       "type": "table"
      }
     },
     "output_type": "display_data"
    },
    {
     "output_type": "stream",
     "name": "stdout",
     "output_type": "stream",
     "text": [
      "<class 'pandas.core.frame.DataFrame'>\nRangeIndex: 8807 entries, 0 to 8806\nData columns (total 12 columns):\n #   Column        Non-Null Count  Dtype \n---  ------        --------------  ----- \n 0   show_id       8807 non-null   object\n 1   type          8807 non-null   object\n 2   title         8807 non-null   object\n 3   director      8807 non-null   object\n 4   cast          8807 non-null   object\n 5   country       8807 non-null   object\n 6   date_added    8807 non-null   object\n 7   release_year  8807 non-null   int64 \n 8   rating        8807 non-null   object\n 9   duration      8807 non-null   object\n 10  listed_in     8807 non-null   object\n 11  description   8807 non-null   object\ndtypes: int64(1), object(11)\nmemory usage: 825.8+ KB\n"
     ]
    }
   ],
   "source": [
    "import pandas as pd\n",
    "\n",
    "# Load dataset\n",
    "df = pd.read_csv(\"/Volumes/workspace/default/netflix/netflix_titles.csv\")\n",
    "\n",
    "# Peek at data\n",
    "display(df.head())\n",
    "df.info()\n",
    "\n"
   ]
  },
  {
   "cell_type": "code",
   "execution_count": 0,
   "metadata": {
    "application/vnd.databricks.v1+cell": {
     "cellMetadata": {
      "byteLimit": 2048000,
      "rowLimit": 10000
     },
     "inputWidgets": {},
     "nuid": "2bd605d2-22c0-47d7-aaf1-f5cfc8c13e2b",
     "showTitle": true,
     "tableResultSettingsMap": {},
     "title": "drop duplicate and check missing"
    }
   },
   "outputs": [
    {
     "output_type": "execute_result",
     "data": {
      "text/plain": [
       "show_id            0\n",
       "type               0\n",
       "title              1\n",
       "director        2634\n",
       "cast             825\n",
       "country          831\n",
       "date_added         0\n",
       "release_year       0\n",
       "rating             0\n",
       "duration           3\n",
       "listed_in          0\n",
       "description        0\n",
       "dtype: int64"
      ]
     },
     "execution_count": 27,
     "metadata": {},
     "output_type": "execute_result"
    }
   ],
   "source": [
    "# Replace 'Unknown' with proper NaN\n",
    "df.replace(\"Unknown\", pd.NA, inplace=True)\n",
    "\n",
    "# Drop duplicate rows if any\n",
    "df.drop_duplicates(inplace=True)\n",
    "\n",
    "# Check missing values\n",
    "df.isna().sum()\n",
    "\n"
   ]
  },
  {
   "cell_type": "code",
   "execution_count": 0,
   "metadata": {
    "application/vnd.databricks.v1+cell": {
     "cellMetadata": {
      "byteLimit": 2048000,
      "rowLimit": 10000
     },
     "inputWidgets": {},
     "nuid": "065f0cdd-e80f-425d-b676-c8ac2f54e034",
     "showTitle": true,
     "tableResultSettingsMap": {},
     "title": "conversion of date datatype"
    }
   },
   "outputs": [
    {
     "output_type": "execute_result",
     "data": {
      "text/html": [
       "<div>\n",
       "<style scoped>\n",
       "    .dataframe tbody tr th:only-of-type {\n",
       "        vertical-align: middle;\n",
       "    }\n",
       "\n",
       "    .dataframe tbody tr th {\n",
       "        vertical-align: top;\n",
       "    }\n",
       "\n",
       "    .dataframe thead th {\n",
       "        text-align: right;\n",
       "    }\n",
       "</style>\n",
       "<table border=\"1\" class=\"dataframe\">\n",
       "  <thead>\n",
       "    <tr style=\"text-align: right;\">\n",
       "      <th></th>\n",
       "      <th>date_added</th>\n",
       "    </tr>\n",
       "  </thead>\n",
       "  <tbody>\n",
       "    <tr>\n",
       "      <th>0</th>\n",
       "      <td>2021-09-25</td>\n",
       "    </tr>\n",
       "    <tr>\n",
       "      <th>1</th>\n",
       "      <td>2021-09-24</td>\n",
       "    </tr>\n",
       "    <tr>\n",
       "      <th>2</th>\n",
       "      <td>2021-09-24</td>\n",
       "    </tr>\n",
       "    <tr>\n",
       "      <th>3</th>\n",
       "      <td>2021-09-24</td>\n",
       "    </tr>\n",
       "    <tr>\n",
       "      <th>4</th>\n",
       "      <td>2021-09-24</td>\n",
       "    </tr>\n",
       "  </tbody>\n",
       "</table>\n",
       "</div>"
      ],
      "text/plain": [
       "  date_added\n",
       "0 2021-09-25\n",
       "1 2021-09-24\n",
       "2 2021-09-24\n",
       "3 2021-09-24\n",
       "4 2021-09-24"
      ]
     },
     "execution_count": 28,
     "metadata": {},
     "output_type": "execute_result"
    }
   ],
   "source": [
    "# Convert date_added to datetime\n",
    "df[\"date_added\"] = pd.to_datetime(df[\"date_added\"], errors=\"coerce\")\n",
    "\n",
    "# Check conversion\n",
    "df[[\"date_added\"]].head()\n",
    "\n"
   ]
  },
  {
   "cell_type": "code",
   "execution_count": 0,
   "metadata": {
    "application/vnd.databricks.v1+cell": {
     "cellMetadata": {
      "byteLimit": 2048000,
      "rowLimit": 10000
     },
     "inputWidgets": {},
     "nuid": "52a51046-dd17-44ab-a2cf-08ae1518cd7b",
     "showTitle": true,
     "tableResultSettingsMap": {},
     "title": "remove spaces and uppercase"
    }
   },
   "outputs": [
    {
     "output_type": "execute_result",
     "data": {
      "text/html": [
       "<div>\n",
       "<style scoped>\n",
       "    .dataframe tbody tr th:only-of-type {\n",
       "        vertical-align: middle;\n",
       "    }\n",
       "\n",
       "    .dataframe tbody tr th {\n",
       "        vertical-align: top;\n",
       "    }\n",
       "\n",
       "    .dataframe thead th {\n",
       "        text-align: right;\n",
       "    }\n",
       "</style>\n",
       "<table border=\"1\" class=\"dataframe\">\n",
       "  <thead>\n",
       "    <tr style=\"text-align: right;\">\n",
       "      <th></th>\n",
       "      <th>title</th>\n",
       "      <th>listed_in</th>\n",
       "      <th>rating</th>\n",
       "    </tr>\n",
       "  </thead>\n",
       "  <tbody>\n",
       "    <tr>\n",
       "      <th>0</th>\n",
       "      <td>Dick Johnson Is Dead</td>\n",
       "      <td>documentaries</td>\n",
       "      <td>PG-13</td>\n",
       "    </tr>\n",
       "    <tr>\n",
       "      <th>1</th>\n",
       "      <td>Blood &amp; Water</td>\n",
       "      <td>international tv shows, tv dramas, tv mysteries</td>\n",
       "      <td>TV-MA</td>\n",
       "    </tr>\n",
       "    <tr>\n",
       "      <th>2</th>\n",
       "      <td>Ganglands</td>\n",
       "      <td>crime tv shows, international tv shows, tv act...</td>\n",
       "      <td>TV-MA</td>\n",
       "    </tr>\n",
       "    <tr>\n",
       "      <th>3</th>\n",
       "      <td>Jailbirds New Orleans</td>\n",
       "      <td>docuseries, reality tv</td>\n",
       "      <td>TV-MA</td>\n",
       "    </tr>\n",
       "    <tr>\n",
       "      <th>4</th>\n",
       "      <td>Kota Factory</td>\n",
       "      <td>international tv shows, romantic tv shows, tv ...</td>\n",
       "      <td>TV-MA</td>\n",
       "    </tr>\n",
       "  </tbody>\n",
       "</table>\n",
       "</div>"
      ],
      "text/plain": [
       "                   title  ... rating\n",
       "0   Dick Johnson Is Dead  ...  PG-13\n",
       "1          Blood & Water  ...  TV-MA\n",
       "2              Ganglands  ...  TV-MA\n",
       "3  Jailbirds New Orleans  ...  TV-MA\n",
       "4           Kota Factory  ...  TV-MA\n",
       "\n",
       "[5 rows x 3 columns]"
      ]
     },
     "execution_count": 30,
     "metadata": {},
     "output_type": "execute_result"
    }
   ],
   "source": [
    "# Strip whitespace from titles\n",
    "df[\"title\"] = df[\"title\"].str.strip()\n",
    "\n",
    "# Lowercase 'listed_in' for consistency\n",
    "df[\"listed_in\"] = df[\"listed_in\"].str.lower().str.strip()\n",
    "\n",
    "# Normalize rating (remove spaces and uppercase)\n",
    "df[\"rating\"] = df[\"rating\"].str.strip().str.upper()\n",
    "\n",
    "df[[\"title\", \"listed_in\", \"rating\"]].head()\n",
    "\n",
    "\n"
   ]
  },
  {
   "cell_type": "code",
   "execution_count": 0,
   "metadata": {
    "application/vnd.databricks.v1+cell": {
     "cellMetadata": {
      "byteLimit": 2048000,
      "rowLimit": 10000
     },
     "inputWidgets": {},
     "nuid": "9d9b6724-7611-46c6-a3dc-e0912a850363",
     "showTitle": true,
     "tableResultSettingsMap": {},
     "title": "convert duration to numeric"
    }
   },
   "outputs": [
    {
     "output_type": "execute_result",
     "data": {
      "text/html": [
       "<div>\n",
       "<style scoped>\n",
       "    .dataframe tbody tr th:only-of-type {\n",
       "        vertical-align: middle;\n",
       "    }\n",
       "\n",
       "    .dataframe tbody tr th {\n",
       "        vertical-align: top;\n",
       "    }\n",
       "\n",
       "    .dataframe thead th {\n",
       "        text-align: right;\n",
       "    }\n",
       "</style>\n",
       "<table border=\"1\" class=\"dataframe\">\n",
       "  <thead>\n",
       "    <tr style=\"text-align: right;\">\n",
       "      <th></th>\n",
       "      <th>duration</th>\n",
       "      <th>duration_value</th>\n",
       "      <th>duration_unit</th>\n",
       "    </tr>\n",
       "  </thead>\n",
       "  <tbody>\n",
       "    <tr>\n",
       "      <th>0</th>\n",
       "      <td>90 min</td>\n",
       "      <td>90.0</td>\n",
       "      <td>min</td>\n",
       "    </tr>\n",
       "    <tr>\n",
       "      <th>1</th>\n",
       "      <td>2 Seasons</td>\n",
       "      <td>2.0</td>\n",
       "      <td>Seasons</td>\n",
       "    </tr>\n",
       "    <tr>\n",
       "      <th>2</th>\n",
       "      <td>1 Seasons</td>\n",
       "      <td>1.0</td>\n",
       "      <td>Seasons</td>\n",
       "    </tr>\n",
       "    <tr>\n",
       "      <th>3</th>\n",
       "      <td>1 Seasons</td>\n",
       "      <td>1.0</td>\n",
       "      <td>Seasons</td>\n",
       "    </tr>\n",
       "    <tr>\n",
       "      <th>4</th>\n",
       "      <td>2 Seasons</td>\n",
       "      <td>2.0</td>\n",
       "      <td>Seasons</td>\n",
       "    </tr>\n",
       "  </tbody>\n",
       "</table>\n",
       "</div>"
      ],
      "text/plain": [
       "    duration  duration_value duration_unit\n",
       "0     90 min            90.0           min\n",
       "1  2 Seasons             2.0       Seasons\n",
       "2  1 Seasons             1.0       Seasons\n",
       "3  1 Seasons             1.0       Seasons\n",
       "4  2 Seasons             2.0       Seasons"
      ]
     },
     "execution_count": 31,
     "metadata": {},
     "output_type": "execute_result"
    }
   ],
   "source": [
    "# Extract numeric value and unit (e.g., \"90 min\" → 90 + 'min')\n",
    "df[[\"duration_value\", \"duration_unit\"]] = df[\"duration\"].str.extract(r\"(\\d+)\\s*(\\w+)\")\n",
    "\n",
    "# Convert duration_value to numeric\n",
    "df[\"duration_value\"] = pd.to_numeric(df[\"duration_value\"], errors=\"coerce\")\n",
    "\n",
    "df[[\"duration\", \"duration_value\", \"duration_unit\"]].head()\n",
    "\n",
    "\n",
    "\n"
   ]
  },
  {
   "cell_type": "code",
   "execution_count": 0,
   "metadata": {
    "application/vnd.databricks.v1+cell": {
     "cellMetadata": {
      "byteLimit": 2048000,
      "rowLimit": 10000
     },
     "inputWidgets": {},
     "nuid": "b688b2ee-2cad-4c49-b5f5-a7ac260fcfb5",
     "showTitle": false,
     "tableResultSettingsMap": {},
     "title": ""
    }
   },
   "outputs": [
    {
     "output_type": "execute_result",
     "data": {
      "text/html": [
       "<div>\n",
       "<style scoped>\n",
       "    .dataframe tbody tr th:only-of-type {\n",
       "        vertical-align: middle;\n",
       "    }\n",
       "\n",
       "    .dataframe tbody tr th {\n",
       "        vertical-align: top;\n",
       "    }\n",
       "\n",
       "    .dataframe thead th {\n",
       "        text-align: right;\n",
       "    }\n",
       "</style>\n",
       "<table border=\"1\" class=\"dataframe\">\n",
       "  <thead>\n",
       "    <tr style=\"text-align: right;\">\n",
       "      <th></th>\n",
       "      <th>country</th>\n",
       "      <th>main_country</th>\n",
       "    </tr>\n",
       "  </thead>\n",
       "  <tbody>\n",
       "    <tr>\n",
       "      <th>0</th>\n",
       "      <td>United States</td>\n",
       "      <td>United States</td>\n",
       "    </tr>\n",
       "    <tr>\n",
       "      <th>1</th>\n",
       "      <td>South Africa</td>\n",
       "      <td>South Africa</td>\n",
       "    </tr>\n",
       "    <tr>\n",
       "      <th>2</th>\n",
       "      <td>&lt;NA&gt;</td>\n",
       "      <td>&lt;NA&gt;</td>\n",
       "    </tr>\n",
       "    <tr>\n",
       "      <th>3</th>\n",
       "      <td>&lt;NA&gt;</td>\n",
       "      <td>&lt;NA&gt;</td>\n",
       "    </tr>\n",
       "    <tr>\n",
       "      <th>4</th>\n",
       "      <td>India</td>\n",
       "      <td>India</td>\n",
       "    </tr>\n",
       "  </tbody>\n",
       "</table>\n",
       "</div>"
      ],
      "text/plain": [
       "         country   main_country\n",
       "0  United States  United States\n",
       "1   South Africa   South Africa\n",
       "2           <NA>           <NA>\n",
       "3           <NA>           <NA>\n",
       "4          India          India"
      ]
     },
     "execution_count": 32,
     "metadata": {},
     "output_type": "execute_result"
    }
   ],
   "source": [
    "# If multiple countries, take only the first\n",
    "df[\"main_country\"] = df[\"country\"].str.split(\",\").str[0].str.strip()\n",
    "\n",
    "df[[\"country\", \"main_country\"]].head()\n",
    "\n",
    "\n",
    "\n"
   ]
  },
  {
   "cell_type": "code",
   "execution_count": 0,
   "metadata": {
    "application/vnd.databricks.v1+cell": {
     "cellMetadata": {
      "byteLimit": 2048000,
      "rowLimit": 10000
     },
     "inputWidgets": {},
     "nuid": "784d7ca1-c283-4a4f-9ab9-df8199a7253b",
     "showTitle": true,
     "tableResultSettingsMap": {},
     "title": "summary"
    }
   },
   "outputs": [
    {
     "output_type": "stream",
     "name": "stdout",
     "output_type": "stream",
     "text": [
      "<class 'pandas.core.frame.DataFrame'>\nInt64Index: 8807 entries, 0 to 8806\nData columns (total 15 columns):\n #   Column          Non-Null Count  Dtype         \n---  ------          --------------  -----         \n 0   show_id         8807 non-null   object        \n 1   type            8807 non-null   object        \n 2   title           8806 non-null   object        \n 3   director        6173 non-null   object        \n 4   cast            7982 non-null   object        \n 5   country         7976 non-null   object        \n 6   date_added      8807 non-null   datetime64[ns]\n 7   release_year    8807 non-null   int64         \n 8   rating          8807 non-null   object        \n 9   duration        8804 non-null   object        \n 10  listed_in       8807 non-null   object        \n 11  description     8807 non-null   object        \n 12  duration_value  8804 non-null   float64       \n 13  duration_unit   8804 non-null   object        \n 14  main_country    7976 non-null   object        \ndtypes: datetime64[ns](1), float64(1), int64(1), object(12)\nmemory usage: 1.1+ MB\n"
     ]
    },
    {
     "output_type": "display_data",
     "data": {
      "text/html": [
       "<style scoped>\n",
       "  .table-result-container {\n",
       "    max-height: 300px;\n",
       "    overflow: auto;\n",
       "  }\n",
       "  table, th, td {\n",
       "    border: 1px solid black;\n",
       "    border-collapse: collapse;\n",
       "  }\n",
       "  th, td {\n",
       "    padding: 5px;\n",
       "  }\n",
       "  th {\n",
       "    text-align: left;\n",
       "  }\n",
       "</style><div class='table-result-container'><table class='table-result'><thead style='background-color: white'><tr><th>show_id</th><th>type</th><th>title</th><th>director</th><th>cast</th><th>country</th><th>date_added</th><th>release_year</th><th>rating</th><th>duration</th><th>listed_in</th><th>description</th><th>duration_value</th><th>duration_unit</th><th>main_country</th></tr></thead><tbody><tr><td>s1</td><td>Movie</td><td>Dick Johnson Is Dead</td><td>Kirsten Johnson</td><td>null</td><td>United States</td><td>2021-09-25T00:00:00.000Z</td><td>2020</td><td>PG-13</td><td>90 min</td><td>documentaries</td><td>As her father nears the end of his life, filmmaker Kirsten Johnson stages his death in inventive and comical ways to help them both face the inevitable.</td><td>90.0</td><td>min</td><td>United States</td></tr><tr><td>s2</td><td>TV Show</td><td>Blood & Water</td><td>null</td><td>Ama Qamata, Khosi Ngema, Gail Mabalane, Thabang Molaba, Dillon Windvogel, Natasha Thahane, Arno Greeff, Xolile Tshabalala, Getmore Sithole, Cindy Mahlangu, Ryle De Morny, Greteli Fincham, Sello Maake Ka-Ncube, Odwa Gwanya, Mekaila Mathys, Sandi Schultz, Duane Williams, Shamilla Miller, Patrick Mofokeng</td><td>South Africa</td><td>2021-09-24T00:00:00.000Z</td><td>2021</td><td>TV-MA</td><td>2 Seasons</td><td>international tv shows, tv dramas, tv mysteries</td><td>After crossing paths at a party, a Cape Town teen sets out to prove whether a private-school swimming star is her sister who was abducted at birth.</td><td>2.0</td><td>Seasons</td><td>South Africa</td></tr><tr><td>s3</td><td>TV Show</td><td>Ganglands</td><td>Julien Leclercq</td><td>Sami Bouajila, Tracy Gotoas, Samuel Jouy, Nabiha Akkari, Sofia Lesaffre, Salim Kechiouche, Noureddine Farihi, Geert Van Rampelberg, Bakary Diombera</td><td>null</td><td>2021-09-24T00:00:00.000Z</td><td>2021</td><td>TV-MA</td><td>1 Seasons</td><td>crime tv shows, international tv shows, tv action & adventure</td><td>To protect his family from a powerful drug lord, skilled thief Mehdi and his expert team of robbers are pulled into a violent and deadly turf war.</td><td>1.0</td><td>Seasons</td><td>null</td></tr><tr><td>s4</td><td>TV Show</td><td>Jailbirds New Orleans</td><td>null</td><td>null</td><td>null</td><td>2021-09-24T00:00:00.000Z</td><td>2021</td><td>TV-MA</td><td>1 Seasons</td><td>docuseries, reality tv</td><td>Feuds, flirtations and toilet talk go down among the incarcerated women at the Orleans Justice Center in New Orleans on this gritty reality series.</td><td>1.0</td><td>Seasons</td><td>null</td></tr><tr><td>s5</td><td>TV Show</td><td>Kota Factory</td><td>null</td><td>Mayur More, Jitendra Kumar, Ranjan Raj, Alam Khan, Ahsaas Channa, Revathi Pillai, Urvi Singh, Arun Kumar</td><td>India</td><td>2021-09-24T00:00:00.000Z</td><td>2021</td><td>TV-MA</td><td>2 Seasons</td><td>international tv shows, romantic tv shows, tv comedies</td><td>In a city of coaching centers known to train India’s finest collegiate minds, an earnest but unexceptional student and his friends navigate campus life.</td><td>2.0</td><td>Seasons</td><td>India</td></tr><tr><td>s6</td><td>TV Show</td><td>Midnight Mass</td><td>Mike Flanagan</td><td>Kate Siegel, Zach Gilford, Hamish Linklater, Henry Thomas, Kristin Lehman, Samantha Sloyan, Igby Rigney, Rahul Kohli, Annarah Cymone, Annabeth Gish, Alex Essoe, Rahul Abburi, Matt Biedel, Michael Trucco, Crystal Balint, Louis Oliver</td><td>null</td><td>2021-09-24T00:00:00.000Z</td><td>2021</td><td>TV-MA</td><td>1 Seasons</td><td>tv dramas, tv horror, tv mysteries</td><td>The arrival of a charismatic young priest brings glorious miracles, ominous mysteries and renewed religious fervor to a dying town desperate to believe.</td><td>1.0</td><td>Seasons</td><td>null</td></tr><tr><td>s7</td><td>Movie</td><td>My Little Pony: A New Generation</td><td>Robert Cullen, José Luis Ucha</td><td>Vanessa Hudgens, Kimiko Glenn, James Marsden, Sofia Carson, Liza Koshy, Ken Jeong, Elizabeth Perkins, Jane Krakowski, Michael McKean, Phil LaMarr</td><td>null</td><td>2021-09-24T00:00:00.000Z</td><td>2021</td><td>PG</td><td>91 min</td><td>children & family movies</td><td>Equestria's divided. But a bright-eyed hero believes Earth Ponies, Pegasi and Unicorns should be pals — and, hoof to heart, she’s determined to prove it.</td><td>91.0</td><td>min</td><td>null</td></tr><tr><td>s8</td><td>Movie</td><td>Sankofa</td><td>Haile Gerima</td><td>Kofi Ghanaba, Oyafunmike Ogunlano, Alexandra Duah, Nick Medley, Mutabaruka, Afemo Omilami, Reggie Carter, Mzuri</td><td>United States, Ghana, Burkina Faso, United Kingdom, Germany, Ethiopia</td><td>2021-09-24T00:00:00.000Z</td><td>1993</td><td>TV-MA</td><td>125 min</td><td>dramas, independent movies, international movies</td><td>On a photo shoot in Ghana, an American model slips back in time, becomes enslaved on a plantation and bears witness to the agony of her ancestral past.</td><td>125.0</td><td>min</td><td>United States</td></tr><tr><td>s9</td><td>TV Show</td><td>The Great British Baking Show</td><td>Andy Devonshire</td><td>Mel Giedroyc, Sue Perkins, Mary Berry, Paul Hollywood</td><td>United Kingdom</td><td>2021-09-24T00:00:00.000Z</td><td>2021</td><td>TV-14</td><td>9 Seasons</td><td>british tv shows, reality tv</td><td>A talented batch of amateur bakers face off in a 10-week competition, whipping up their best dishes in the hopes of being named the U.K.'s best.</td><td>9.0</td><td>Seasons</td><td>United Kingdom</td></tr><tr><td>s10</td><td>Movie</td><td>The Starling</td><td>Theodore Melfi</td><td>Melissa McCarthy, Chris O'Dowd, Kevin Kline, Timothy Olyphant, Daveed Diggs, Skyler Gisondo, Laura Harrier, Rosalind Chao, Kimberly Quinn, Loretta Devine, Ravi Kapoor</td><td>United States</td><td>2021-09-24T00:00:00.000Z</td><td>2021</td><td>PG-13</td><td>104 min</td><td>comedies, dramas</td><td>A woman adjusting to life after a loss contends with a feisty bird that's taken over her garden — and a husband who's struggling to find a way forward.</td><td>104.0</td><td>min</td><td>United States</td></tr></tbody></table></div>"
      ]
     },
     "metadata": {
      "application/vnd.databricks.v1+output": {
       "addedWidgets": {},
       "aggData": [],
       "aggError": "",
       "aggOverflow": false,
       "aggSchema": [],
       "aggSeriesLimitReached": false,
       "aggType": "",
       "arguments": {},
       "columnCustomDisplayInfos": {},
       "data": [
        [
         "s1",
         "Movie",
         "Dick Johnson Is Dead",
         "Kirsten Johnson",
         null,
         "United States",
         "2021-09-25T00:00:00.000Z",
         2020,
         "PG-13",
         "90 min",
         "documentaries",
         "As her father nears the end of his life, filmmaker Kirsten Johnson stages his death in inventive and comical ways to help them both face the inevitable.",
         90.0,
         "min",
         "United States"
        ],
        [
         "s2",
         "TV Show",
         "Blood & Water",
         null,
         "Ama Qamata, Khosi Ngema, Gail Mabalane, Thabang Molaba, Dillon Windvogel, Natasha Thahane, Arno Greeff, Xolile Tshabalala, Getmore Sithole, Cindy Mahlangu, Ryle De Morny, Greteli Fincham, Sello Maake Ka-Ncube, Odwa Gwanya, Mekaila Mathys, Sandi Schultz, Duane Williams, Shamilla Miller, Patrick Mofokeng",
         "South Africa",
         "2021-09-24T00:00:00.000Z",
         2021,
         "TV-MA",
         "2 Seasons",
         "international tv shows, tv dramas, tv mysteries",
         "After crossing paths at a party, a Cape Town teen sets out to prove whether a private-school swimming star is her sister who was abducted at birth.",
         2.0,
         "Seasons",
         "South Africa"
        ],
        [
         "s3",
         "TV Show",
         "Ganglands",
         "Julien Leclercq",
         "Sami Bouajila, Tracy Gotoas, Samuel Jouy, Nabiha Akkari, Sofia Lesaffre, Salim Kechiouche, Noureddine Farihi, Geert Van Rampelberg, Bakary Diombera",
         null,
         "2021-09-24T00:00:00.000Z",
         2021,
         "TV-MA",
         "1 Seasons",
         "crime tv shows, international tv shows, tv action & adventure",
         "To protect his family from a powerful drug lord, skilled thief Mehdi and his expert team of robbers are pulled into a violent and deadly turf war.",
         1.0,
         "Seasons",
         null
        ],
        [
         "s4",
         "TV Show",
         "Jailbirds New Orleans",
         null,
         null,
         null,
         "2021-09-24T00:00:00.000Z",
         2021,
         "TV-MA",
         "1 Seasons",
         "docuseries, reality tv",
         "Feuds, flirtations and toilet talk go down among the incarcerated women at the Orleans Justice Center in New Orleans on this gritty reality series.",
         1.0,
         "Seasons",
         null
        ],
        [
         "s5",
         "TV Show",
         "Kota Factory",
         null,
         "Mayur More, Jitendra Kumar, Ranjan Raj, Alam Khan, Ahsaas Channa, Revathi Pillai, Urvi Singh, Arun Kumar",
         "India",
         "2021-09-24T00:00:00.000Z",
         2021,
         "TV-MA",
         "2 Seasons",
         "international tv shows, romantic tv shows, tv comedies",
         "In a city of coaching centers known to train India’s finest collegiate minds, an earnest but unexceptional student and his friends navigate campus life.",
         2.0,
         "Seasons",
         "India"
        ],
        [
         "s6",
         "TV Show",
         "Midnight Mass",
         "Mike Flanagan",
         "Kate Siegel, Zach Gilford, Hamish Linklater, Henry Thomas, Kristin Lehman, Samantha Sloyan, Igby Rigney, Rahul Kohli, Annarah Cymone, Annabeth Gish, Alex Essoe, Rahul Abburi, Matt Biedel, Michael Trucco, Crystal Balint, Louis Oliver",
         null,
         "2021-09-24T00:00:00.000Z",
         2021,
         "TV-MA",
         "1 Seasons",
         "tv dramas, tv horror, tv mysteries",
         "The arrival of a charismatic young priest brings glorious miracles, ominous mysteries and renewed religious fervor to a dying town desperate to believe.",
         1.0,
         "Seasons",
         null
        ],
        [
         "s7",
         "Movie",
         "My Little Pony: A New Generation",
         "Robert Cullen, José Luis Ucha",
         "Vanessa Hudgens, Kimiko Glenn, James Marsden, Sofia Carson, Liza Koshy, Ken Jeong, Elizabeth Perkins, Jane Krakowski, Michael McKean, Phil LaMarr",
         null,
         "2021-09-24T00:00:00.000Z",
         2021,
         "PG",
         "91 min",
         "children & family movies",
         "Equestria's divided. But a bright-eyed hero believes Earth Ponies, Pegasi and Unicorns should be pals — and, hoof to heart, she’s determined to prove it.",
         91.0,
         "min",
         null
        ],
        [
         "s8",
         "Movie",
         "Sankofa",
         "Haile Gerima",
         "Kofi Ghanaba, Oyafunmike Ogunlano, Alexandra Duah, Nick Medley, Mutabaruka, Afemo Omilami, Reggie Carter, Mzuri",
         "United States, Ghana, Burkina Faso, United Kingdom, Germany, Ethiopia",
         "2021-09-24T00:00:00.000Z",
         1993,
         "TV-MA",
         "125 min",
         "dramas, independent movies, international movies",
         "On a photo shoot in Ghana, an American model slips back in time, becomes enslaved on a plantation and bears witness to the agony of her ancestral past.",
         125.0,
         "min",
         "United States"
        ],
        [
         "s9",
         "TV Show",
         "The Great British Baking Show",
         "Andy Devonshire",
         "Mel Giedroyc, Sue Perkins, Mary Berry, Paul Hollywood",
         "United Kingdom",
         "2021-09-24T00:00:00.000Z",
         2021,
         "TV-14",
         "9 Seasons",
         "british tv shows, reality tv",
         "A talented batch of amateur bakers face off in a 10-week competition, whipping up their best dishes in the hopes of being named the U.K.'s best.",
         9.0,
         "Seasons",
         "United Kingdom"
        ],
        [
         "s10",
         "Movie",
         "The Starling",
         "Theodore Melfi",
         "Melissa McCarthy, Chris O'Dowd, Kevin Kline, Timothy Olyphant, Daveed Diggs, Skyler Gisondo, Laura Harrier, Rosalind Chao, Kimberly Quinn, Loretta Devine, Ravi Kapoor",
         "United States",
         "2021-09-24T00:00:00.000Z",
         2021,
         "PG-13",
         "104 min",
         "comedies, dramas",
         "A woman adjusting to life after a loss contends with a feisty bird that's taken over her garden — and a husband who's struggling to find a way forward.",
         104.0,
         "min",
         "United States"
        ]
       ],
       "datasetInfos": [],
       "dbfsResultPath": null,
       "isJsonSchema": true,
       "metadata": {},
       "overflow": false,
       "plotOptions": {
        "customPlotOptions": {},
        "displayType": "table",
        "pivotAggregation": null,
        "pivotColumns": null,
        "xColumns": null,
        "yColumns": null
       },
       "removedWidgets": [],
       "schema": [
        {
         "metadata": "{}",
         "name": "show_id",
         "type": "\"string\""
        },
        {
         "metadata": "{}",
         "name": "type",
         "type": "\"string\""
        },
        {
         "metadata": "{}",
         "name": "title",
         "type": "\"string\""
        },
        {
         "metadata": "{}",
         "name": "director",
         "type": "\"string\""
        },
        {
         "metadata": "{}",
         "name": "cast",
         "type": "\"string\""
        },
        {
         "metadata": "{}",
         "name": "country",
         "type": "\"string\""
        },
        {
         "metadata": "{}",
         "name": "date_added",
         "type": "\"timestamp\""
        },
        {
         "metadata": "{}",
         "name": "release_year",
         "type": "\"long\""
        },
        {
         "metadata": "{}",
         "name": "rating",
         "type": "\"string\""
        },
        {
         "metadata": "{}",
         "name": "duration",
         "type": "\"string\""
        },
        {
         "metadata": "{}",
         "name": "listed_in",
         "type": "\"string\""
        },
        {
         "metadata": "{}",
         "name": "description",
         "type": "\"string\""
        },
        {
         "metadata": "{}",
         "name": "duration_value",
         "type": "\"double\""
        },
        {
         "metadata": "{}",
         "name": "duration_unit",
         "type": "\"string\""
        },
        {
         "metadata": "{}",
         "name": "main_country",
         "type": "\"string\""
        }
       ],
       "type": "table"
      }
     },
     "output_type": "display_data"
    }
   ],
   "source": [
    "# Summary of cleaned dataset\n",
    "df.info()\n",
    "\n",
    "# Quick peek at cleaned data\n",
    "display(df.head(10))\n",
    "\n",
    "\n",
    "\n",
    "\n"
   ]
  },
  {
   "cell_type": "code",
   "execution_count": 0,
   "metadata": {
    "application/vnd.databricks.v1+cell": {
     "cellMetadata": {
      "byteLimit": 2048000,
      "rowLimit": 10000
     },
     "inputWidgets": {},
     "nuid": "656a1e07-abc5-458a-908c-f0d0b41231ce",
     "showTitle": true,
     "tableResultSettingsMap": {},
     "title": "count null values sum"
    }
   },
   "outputs": [
    {
     "output_type": "execute_result",
     "data": {
      "text/plain": [
       "show_id              0\n",
       "type                 0\n",
       "title                1\n",
       "director          2634\n",
       "cast               825\n",
       "country            831\n",
       "date_added           0\n",
       "release_year         0\n",
       "rating               0\n",
       "duration             3\n",
       "listed_in            0\n",
       "description          0\n",
       "duration_value       3\n",
       "duration_unit        3\n",
       "main_country       831\n",
       "dtype: int64"
      ]
     },
     "execution_count": 34,
     "metadata": {},
     "output_type": "execute_result"
    }
   ],
   "source": [
    "# Count missing values per column\n",
    "df.isna().sum()\n"
   ]
  },
  {
   "cell_type": "code",
   "execution_count": 0,
   "metadata": {
    "application/vnd.databricks.v1+cell": {
     "cellMetadata": {
      "byteLimit": 2048000,
      "rowLimit": 10000
     },
     "inputWidgets": {},
     "nuid": "a9306f16-ad62-4150-a9bd-42246cf9d4fe",
     "showTitle": false,
     "tableResultSettingsMap": {},
     "title": ""
    }
   },
   "outputs": [],
   "source": [
    "# Drop rows where critical info is missing (like title/type)\n",
    "df = df.dropna(subset=[\"title\", \"type\"])\n",
    "\n",
    "# Drop columns with more than 50% nulls (if any)\n",
    "threshold = len(df) * 0.5\n",
    "df = df.dropna(axis=1, thresh=threshold)\n"
   ]
  },
  {
   "cell_type": "code",
   "execution_count": 0,
   "metadata": {
    "application/vnd.databricks.v1+cell": {
     "cellMetadata": {
      "byteLimit": 2048000,
      "rowLimit": 10000
     },
     "inputWidgets": {},
     "nuid": "13515409-820b-4d0f-9064-8688637034ab",
     "showTitle": false,
     "tableResultSettingsMap": {},
     "title": ""
    }
   },
   "outputs": [],
   "source": [
    "# Fill missing director with \"Unknown Director\"\n",
    "df[\"director\"] = df[\"director\"].fillna(\"Unknown Director\")\n",
    "\n",
    "# Fill missing cast with \"Not Available\"\n",
    "df[\"cast\"] = df[\"cast\"].fillna(\"Not Available\")\n",
    "\n",
    "# Fill missing country with \"Unknown\"\n",
    "df[\"country\"] = df[\"country\"].fillna(\"Unknown\")\n",
    "\n",
    "# Fill missing rating with \"Unrated\"\n",
    "df[\"rating\"] = df[\"rating\"].fillna(\"Unrated\")\n",
    "\n",
    "# Fill missing date_added with a placeholder or leave as NaT\n",
    "df[\"date_added\"] = df[\"date_added\"].fillna(pd.NaT)\n"
   ]
  },
  {
   "cell_type": "code",
   "execution_count": 0,
   "metadata": {
    "application/vnd.databricks.v1+cell": {
     "cellMetadata": {
      "byteLimit": 2048000,
      "rowLimit": 10000
     },
     "inputWidgets": {},
     "nuid": "818ceb85-e025-4c03-a3b9-43a737d1c606",
     "showTitle": false,
     "tableResultSettingsMap": {},
     "title": ""
    }
   },
   "outputs": [
    {
     "output_type": "execute_result",
     "data": {
      "text/plain": [
       "show_id             0\n",
       "type                0\n",
       "title               0\n",
       "director            0\n",
       "cast                0\n",
       "country             0\n",
       "date_added          0\n",
       "release_year        0\n",
       "rating              0\n",
       "duration            3\n",
       "listed_in           0\n",
       "description         0\n",
       "duration_value      3\n",
       "duration_unit       3\n",
       "main_country      831\n",
       "dtype: int64"
      ]
     },
     "execution_count": 38,
     "metadata": {},
     "output_type": "execute_result"
    }
   ],
   "source": [
    "df.isna().sum()\n"
   ]
  },
  {
   "cell_type": "code",
   "execution_count": 0,
   "metadata": {
    "application/vnd.databricks.v1+cell": {
     "cellMetadata": {
      "byteLimit": 2048000,
      "rowLimit": 10000
     },
     "inputWidgets": {},
     "nuid": "1ed89817-1d91-4b29-aa7f-7cba4eeb2f4c",
     "showTitle": false,
     "tableResultSettingsMap": {},
     "title": ""
    }
   },
   "outputs": [],
   "source": [
    "# Fill missing duration with \"0 min\" for Movies and \"0 Seasons\" for TV Shows\n",
    "df.loc[df[\"type\"] == \"Movie\", \"duration\"] = df.loc[df[\"type\"] == \"Movie\", \"duration\"].fillna(\"0 min\")\n",
    "df.loc[df[\"type\"] == \"TV Show\", \"duration\"] = df.loc[df[\"type\"] == \"TV Show\", \"duration\"].fillna(\"0 Seasons\")\n",
    "\n",
    "# Re-extract after filling\n",
    "df[[\"duration_value\", \"duration_unit\"]] = df[\"duration\"].str.extract(r\"(\\d+)\\s*(\\w+)\")\n",
    "df[\"duration_value\"] = pd.to_numeric(df[\"duration_value\"], errors=\"coerce\")\n"
   ]
  },
  {
   "cell_type": "code",
   "execution_count": 0,
   "metadata": {
    "application/vnd.databricks.v1+cell": {
     "cellMetadata": {
      "byteLimit": 2048000,
      "rowLimit": 10000
     },
     "inputWidgets": {},
     "nuid": "911b3b60-3cb5-4394-9c99-e81a92dcfa32",
     "showTitle": false,
     "tableResultSettingsMap": {},
     "title": ""
    }
   },
   "outputs": [],
   "source": [
    "df[\"main_country\"] = df[\"main_country\"].fillna(\"Unknown\")\n"
   ]
  },
  {
   "cell_type": "code",
   "execution_count": 0,
   "metadata": {
    "application/vnd.databricks.v1+cell": {
     "cellMetadata": {
      "byteLimit": 2048000,
      "rowLimit": 10000
     },
     "inputWidgets": {},
     "nuid": "eec9615c-4577-4ff7-b61d-ce9fc45e628d",
     "showTitle": true,
     "tableResultSettingsMap": {},
     "title": "final code after removing duplicate and nulls"
    }
   },
   "outputs": [
    {
     "output_type": "execute_result",
     "data": {
      "text/plain": [
       "show_id           0\n",
       "type              0\n",
       "title             0\n",
       "director          0\n",
       "cast              0\n",
       "country           0\n",
       "date_added        0\n",
       "release_year      0\n",
       "rating            0\n",
       "duration          0\n",
       "listed_in         0\n",
       "description       0\n",
       "duration_value    0\n",
       "duration_unit     0\n",
       "main_country      0\n",
       "dtype: int64"
      ]
     },
     "execution_count": 44,
     "metadata": {},
     "output_type": "execute_result"
    }
   ],
   "source": [
    "df.isna().sum()\n",
    "\n"
   ]
  }
 ],
 "metadata": {
  "application/vnd.databricks.v1+notebook": {
   "computePreferences": {
    "hardware": {
     "accelerator": null,
     "gpuPoolId": null,
     "memory": null
    }
   },
   "dashboards": [],
   "environmentMetadata": {
    "base_environment": "",
    "environment_version": "3"
   },
   "inputWidgetPreferences": null,
   "language": "python",
   "notebookMetadata": {
    "pythonIndentUnit": 4
   },
   "notebookName": "cleaning netflix data",
   "widgets": {}
  },
  "language_info": {
   "name": "python"
  }
 },
 "nbformat": 4,
 "nbformat_minor": 0
}