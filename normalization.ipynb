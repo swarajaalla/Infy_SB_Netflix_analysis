{
 "cells": [
  {
   "cell_type": "code",
   "execution_count": 0,
   "metadata": {
    "application/vnd.databricks.v1+cell": {
     "cellMetadata": {
      "byteLimit": 2048000,
      "rowLimit": 10000
     },
     "inputWidgets": {},
     "nuid": "9636eeb9-b6a0-43e2-9a50-28f1aabcdb10",
     "showTitle": false,
     "tableResultSettingsMap": {},
     "title": ""
    }
   },
   "outputs": [
    {
     "output_type": "stream",
     "name": "stdout",
     "output_type": "stream",
     "text": [
      "Index(['show_id', 'type', 'title', 'director', 'cast', 'country', 'date_added',\n       'release_year', 'rating', 'duration', 'listed_in', 'description'],\n      dtype='object')\n"
     ]
    }
   ],
   "source": [
    "import pandas as pd\n",
    "df=pd.read_csv(\"/Volumes/workspace/default/netflixdata/netflix_titles_cleaned.csv\")\n",
    "# Drop columns\n",
    "df = df.drop(columns=[\"rating 66min\", \"rating 74 min\", \"rating 84min\"], errors=\"ignore\")\n",
    "\n",
    "# Confirm\n",
    "print(df.columns)\n"
   ]
  },
  {
   "cell_type": "code",
   "execution_count": 0,
   "metadata": {
    "application/vnd.databricks.v1+cell": {
     "cellMetadata": {
      "byteLimit": 2048000,
      "rowLimit": 10000
     },
     "inputWidgets": {},
     "nuid": "49548739-9b41-4f90-8a5b-70ba8d148f64",
     "showTitle": false,
     "tableResultSettingsMap": {},
     "title": ""
    }
   },
   "outputs": [
    {
     "output_type": "stream",
     "name": "stdout",
     "output_type": "stream",
     "text": [
      "show_id\ntype\ntitle\ndirector\ncast\ncountry\ndate_added\nrelease_year\nrating\nduration\nlisted_in\ndescription\n"
     ]
    }
   ],
   "source": [
    "for col in df.columns:\n",
    "    print(col)\n"
   ]
  },
  {
   "cell_type": "code",
   "execution_count": 0,
   "metadata": {
    "application/vnd.databricks.v1+cell": {
     "cellMetadata": {
      "byteLimit": 2048000,
      "rowLimit": 10000
     },
     "inputWidgets": {},
     "nuid": "6cc65ce4-a941-4578-bb86-df6592099c43",
     "showTitle": false,
     "tableResultSettingsMap": {},
     "title": ""
    }
   },
   "outputs": [
    {
     "output_type": "stream",
     "name": "stdout",
     "output_type": "stream",
     "text": [
      "                                             country  country_encoded\n0                                      United States           2818.0\n1                                       South Africa             30.0\n2                                                NaN              NaN\n3                                                NaN              NaN\n4                                              India            972.0\n5                                                NaN              NaN\n6                                                NaN              NaN\n7  United States, Ghana, Burkina Faso, United Kin...              1.0\n8                                     United Kingdom            419.0\n9                                      United States           2818.0 \n\n                                           listed_in  Genres_encoded\n0                                      Documentaries             359\n1    International TV Shows, TV Dramas, TV Mysteries              26\n2  Crime TV Shows, International TV Shows, TV Act...              18\n3                             Docuseries, Reality TV              16\n4  International TV Shows, Romantic TV Shows, TV ...              94\n5                 TV Dramas, TV Horror, TV Mysteries               9\n6                           Children & Family Movies             215\n7   Dramas, Independent Movies, International Movies             252\n8                       British TV Shows, Reality TV               9\n9                                   Comedies, Dramas              29 \n\n"
     ]
    }
   ],
   "source": [
    "# Country frequency encoding\n",
    "df['country_encoded'] = df['country'].map(df['country'].value_counts())\n",
    "\n",
    "# Genres frequency encoding\n",
    "df['Genres_encoded'] = df['listed_in'].map(df['listed_in'].value_counts())\n",
    "\n",
    "print(df[['country', 'country_encoded']].head(10), \"\\n\")\n",
    "\n",
    "print(df[['listed_in', 'Genres_encoded']].head(10), \"\\n\")\n",
    "\n"
   ]
  },
  {
   "cell_type": "code",
   "execution_count": 0,
   "metadata": {
    "application/vnd.databricks.v1+cell": {
     "cellMetadata": {
      "byteLimit": 2048000,
      "rowLimit": 10000
     },
     "inputWidgets": {},
     "nuid": "7e21a291-a202-460d-8a29-38a8df804a80",
     "showTitle": false,
     "tableResultSettingsMap": {},
     "title": ""
    }
   },
   "outputs": [
    {
     "output_type": "stream",
     "name": "stdout",
     "output_type": "stream",
     "text": [
      "Release Year Ordinal Encoding:\n   release_year  release_year_encoded\n0          2020                    72\n1          2021                    73\n2          2021                    73\n3          2021                    73\n4          2021                    73\n5          2021                    73\n6          2021                    73\n7          1993                    45\n8          2021                    73\n9          2021                    73 \n\nRating Ordinal Encoding:\n  rating rating_encoded\n0  PG-13              2\n1  TV-MA             10\n2  TV-MA             10\n3  TV-MA             10\n4  TV-MA             10\n5  TV-MA             10\n6     PG              1\n7  TV-MA             10\n8  TV-14              9\n9  PG-13              2 \n\n"
     ]
    }
   ],
   "source": [
    "# Release Year ordinal encoding\n",
    "year_mapping = {year: idx for idx, year in enumerate(sorted(df['release_year'].dropna().unique()))}\n",
    "df['release_year_encoded'] = df['release_year'].map(year_mapping)\n",
    "print(\"Release Year Ordinal Encoding:\")\n",
    "print(df[['release_year', 'release_year_encoded']].head(10), \"\\n\")\n",
    "\n",
    "# Rating ordinal encoding (custom order)\n",
    "rating_order = ['G','PG','PG-13','R','NC-17','TV-Y','TV-Y7','TV-G','TV-PG','TV-14','TV-MA','Unrated']\n",
    "rating_mapping = {rating: idx for idx, rating in enumerate(rating_order)}\n",
    "df['rating_encoded'] = df['rating'].replace(rating_mapping)\n",
    "print(\"Rating Ordinal Encoding:\")\n",
    "print(df[['rating', 'rating_encoded']].head(10), \"\\n\")\n"
   ]
  },
  {
   "cell_type": "code",
   "execution_count": 0,
   "metadata": {
    "application/vnd.databricks.v1+cell": {
     "cellMetadata": {
      "byteLimit": 2048000,
      "rowLimit": 10000
     },
     "inputWidgets": {},
     "nuid": "4601be9b-e730-49d3-8c51-24e0267d492f",
     "showTitle": false,
     "tableResultSettingsMap": {},
     "title": ""
    }
   },
   "outputs": [
    {
     "output_type": "stream",
     "name": "stdout",
     "output_type": "stream",
     "text": [
      "type One-Hot Encoding:\n   type_Movie  type_TV Show\n0           1             0\n1           0             1\n2           0             1\n3           0             1\n4           0             1\n5           0             1\n6           1             0\n7           1             0\n8           0             1\n9           1             0 \n\n"
     ]
    }
   ],
   "source": [
    "df = pd.get_dummies(df, columns=['type'], prefix='type')\n",
    "print(\"type One-Hot Encoding:\")\n",
    "print(df[['type_Movie', 'type_TV Show']].head(10), \"\\n\")\n"
   ]
  },
  {
   "cell_type": "code",
   "execution_count": 0,
   "metadata": {
    "application/vnd.databricks.v1+cell": {
     "cellMetadata": {
      "byteLimit": 2048000,
      "rowLimit": 10000
     },
     "inputWidgets": {},
     "nuid": "d1c3541c-c861-4285-b5df-9603c9f7f656",
     "showTitle": false,
     "tableResultSettingsMap": {},
     "title": ""
    }
   },
   "outputs": [
    {
     "output_type": "stream",
     "name": "stdout",
     "output_type": "stream",
     "text": [
      "duration Numeric Conversion:\n    duration  duration_num duration_unit\n0     90 min          90.0           min\n1  2 Seasons           2.0       Seasons\n2   1 Season           1.0        Season\n3   1 Season           1.0        Season\n4  2 Seasons           2.0       Seasons\n5   1 Season           1.0        Season\n6     91 min          91.0           min\n7    125 min         125.0           min\n8  9 Seasons           9.0       Seasons\n9    104 min         104.0           min \n\n"
     ]
    }
   ],
   "source": [
    "# Extract number from Duration\n",
    "df['duration_num'] = df['duration'].str.extract(r'(\\d+)').astype(float)\n",
    "\n",
    "# Optional: separate by unit\n",
    "df['duration_unit'] = df['duration'].str.extract(r'([A-Za-z]+)')\n",
    "print(\"duration Numeric Conversion:\")\n",
    "print(df[['duration', 'duration_num', 'duration_unit']].head(10), \"\\n\")\n"
   ]
  },
  {
   "cell_type": "code",
   "execution_count": 0,
   "metadata": {
    "application/vnd.databricks.v1+cell": {
     "cellMetadata": {
      "byteLimit": 2048000,
      "rowLimit": 10000
     },
     "inputWidgets": {},
     "nuid": "f6936665-395d-4ae0-9f94-1c1d4e5c96bc",
     "showTitle": false,
     "tableResultSettingsMap": {},
     "title": ""
    }
   },
   "outputs": [
    {
     "output_type": "stream",
     "name": "stdout",
     "output_type": "stream",
     "text": [
      "    duration  duration_num  duration_normalized\n0     90 min          90.0             0.286174\n1  2 Seasons           2.0             0.003215\n2   1 Season           1.0             0.000000\n3   1 Season           1.0             0.000000\n4  2 Seasons           2.0             0.003215\n5   1 Season           1.0             0.000000\n6     91 min          91.0             0.289389\n7    125 min         125.0             0.398714\n8  9 Seasons           9.0             0.025723\n9    104 min         104.0             0.331190\n"
     ]
    }
   ],
   "source": [
    "# Extract numeric duration first\n",
    "df['duration_num'] = df['duration'].str.extract(r'(\\d+)').astype(float)\n",
    "\n",
    "# Min-Max normalization\n",
    "df['duration_normalized'] = (df['duration_num'] - df['duration_num'].min()) / (df['duration_num'].max() - df['duration_num'].min())\n",
    "\n",
    "# View results\n",
    "print(df[['duration', 'duration_num', 'duration_normalized']].head(10))\n"
   ]
  },
  {
   "cell_type": "code",
   "execution_count": 0,
   "metadata": {
    "application/vnd.databricks.v1+cell": {
     "cellMetadata": {
      "byteLimit": 2048000,
      "rowLimit": 10000
     },
     "inputWidgets": {},
     "nuid": "4911bbad-ab28-4607-8c84-92405ad29ab5",
     "showTitle": false,
     "tableResultSettingsMap": {},
     "title": ""
    }
   },
   "outputs": [
    {
     "output_type": "stream",
     "name": "stdout",
     "output_type": "stream",
     "text": [
      "     show_id                  title  ... duration_unit duration_normalized\n0         s1   Dick Johnson Is Dead  ...           min            0.286174\n1         s2          Blood & Water  ...       Seasons            0.003215\n2         s3              Ganglands  ...        Season            0.000000\n3         s4  Jailbirds New Orleans  ...        Season            0.000000\n4         s5           Kota Factory  ...       Seasons            0.003215\n...      ...                    ...  ...           ...                 ...\n8802   s8803                 Zodiac  ...           min            0.504823\n8803   s8804            Zombie Dumb  ...       Seasons            0.003215\n8804   s8805             Zombieland  ...           min            0.279743\n8805   s8806                   Zoom  ...           min            0.279743\n8806   s8807                 Zubaan  ...           min            0.353698\n\n[8807 rows x 20 columns]\n"
     ]
    },
    {
     "output_type": "display_data",
     "data": {
      "application/vnd.databricks.v1+display_df_hint": {
       "mode": "should_hint",
       "name": "df",
       "type": "pandas.core.frame.DataFrame"
      }
     },
     "metadata": {},
     "output_type": "display_data"
    }
   ],
   "source": [
    "print(df)"
   ]
  }
 ],
 "metadata": {
  "application/vnd.databricks.v1+notebook": {
   "computePreferences": {
    "hardware": {
     "accelerator": null,
     "gpuPoolId": null,
     "memory": null
    }
   },
   "dashboards": [],
   "environmentMetadata": {
    "base_environment": "",
    "environment_version": "3"
   },
   "inputWidgetPreferences": null,
   "language": "python",
   "notebookMetadata": {
    "pythonIndentUnit": 4
   },
   "notebookName": "normalization",
   "widgets": {}
  },
  "language_info": {
   "name": "python"
  }
 },
 "nbformat": 4,
 "nbformat_minor": 0
}