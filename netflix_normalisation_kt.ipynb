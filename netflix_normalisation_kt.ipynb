{
 "cells": [
  {
   "cell_type": "code",
   "execution_count": 0,
   "metadata": {
    "application/vnd.databricks.v1+cell": {
     "cellMetadata": {
      "byteLimit": 2048000,
      "rowLimit": 10000
     },
     "inputWidgets": {},
     "nuid": "1c5d229d-7354-4aa2-9393-291ed5a8e4da",
     "showTitle": false,
     "tableResultSettingsMap": {},
     "title": ""
    }
   },
   "outputs": [
    {
     "output_type": "stream",
     "name": "stdout",
     "output_type": "stream",
     "text": [
      "Checking Spark environment...\nSpark Version: 4.0.0\n✓ Spark is active and ready on Databricks Serverless!\n==================================================\n✓ Dataset loaded successfully\nRows: 4103, Columns: 16\n"
     ]
    }
   ],
   "source": [
    "from pyspark.sql.functions import *\n",
    "from pyspark.sql.types import *\n",
    "from pyspark.sql.window import Window\n",
    "\n",
    "print(\"Checking Spark environment...\")\n",
    "print(f\"Spark Version: {spark.version}\")\n",
    "print(\"✓ Spark is active and ready on Databricks Serverless!\")\n",
    "print(\"=\"*50)\n",
    "\n",
    "try:\n",
    "    df = spark.read.csv(\"/Volumes/workspace/default/netflix/netflix_clean_dataset_kshitij_.csv\", \n",
    "                        header=True, \n",
    "                        inferSchema=True)\n",
    "    print(\"✓ Dataset loaded successfully\")\n",
    "    print(f\"Rows: {df.count()}, Columns: {len(df.columns)}\")\n",
    "except Exception as e:\n",
    "    print(f\"Error loading data: {e}\")\n",
    "    raise"
   ]
  },
  {
   "cell_type": "code",
   "execution_count": 0,
   "metadata": {
    "application/vnd.databricks.v1+cell": {
     "cellMetadata": {
      "byteLimit": 2048000,
      "rowLimit": 10000
     },
     "inputWidgets": {},
     "nuid": "700d9b8b-e501-4fbf-925b-57689eeacdc2",
     "showTitle": false,
     "tableResultSettingsMap": {},
     "title": ""
    }
   },
   "outputs": [
    {
     "output_type": "stream",
     "name": "stdout",
     "output_type": "stream",
     "text": [
      "root\n |-- show_id: string (nullable = true)\n |-- type: string (nullable = true)\n |-- title: string (nullable = true)\n |-- director: string (nullable = true)\n |-- cast: string (nullable = true)\n |-- country: string (nullable = true)\n |-- date_added: string (nullable = true)\n |-- release_year: integer (nullable = true)\n |-- rating: string (nullable = true)\n |-- duration: string (nullable = true)\n |-- listed_in: string (nullable = true)\n |-- description: string (nullable = true)\n |-- duration_int: integer (nullable = true)\n |-- duration_type: string (nullable = true)\n |-- added_year: integer (nullable = true)\n |-- added_month: integer (nullable = true)\n\n"
     ]
    },
    {
     "output_type": "display_data",
     "data": {
      "text/html": [
       "<style scoped>\n",
       "  .table-result-container {\n",
       "    max-height: 300px;\n",
       "    overflow: auto;\n",
       "  }\n",
       "  table, th, td {\n",
       "    border: 1px solid black;\n",
       "    border-collapse: collapse;\n",
       "  }\n",
       "  th, td {\n",
       "    padding: 5px;\n",
       "  }\n",
       "  th {\n",
       "    text-align: left;\n",
       "  }\n",
       "</style><div class='table-result-container'><table class='table-result'><thead style='background-color: white'><tr><th>show_id</th><th>type</th><th>title</th><th>director</th><th>cast</th><th>country</th><th>date_added</th><th>release_year</th><th>rating</th><th>duration</th><th>listed_in</th><th>description</th><th>duration_int</th><th>duration_type</th><th>added_year</th><th>added_month</th></tr></thead><tbody><tr><td>s579</td><td>movie</td><td>Memoirs of a Geisha</td><td>Rob Marshall</td><td>Zhang Ziyi, Ken Watanabe, Koji Yakusho, Michelle Yeoh, Kaori Momoi, Youki Kudoh, Gong Li, Cary-Hiroyuki Tagawa, Mako Iwamatsu, Navia Nguyen, Karl Yune</td><td>France, Japan, United States</td><td>July 1, 2021</td><td>2005</td><td>PG-13</td><td>145 min</td><td>Dramas, Romantic Movies</td><td>Sold to a geisha house as a child, a fisherman’s daughter becomes the most sought-after geisha in Kyoto, but rivalries threaten the destiny she desires.</td><td>145</td><td>minutes</td><td>2021</td><td>7</td></tr><tr><td>s2322</td><td>movie</td><td>George Lopez: We'll Do It For Half</td><td>Troy Miller</td><td>George Lopez</td><td>United States</td><td>June 30, 2020</td><td>2020</td><td>TV-MA</td><td>52 min</td><td>Stand-Up Comedy</td><td>Comedian George Lopez tackles the future and the past of Latinx culture in America, touching on immigration, his tough relatives, aging and much more.</td><td>52</td><td>minutes</td><td>2020</td><td>6</td></tr><tr><td>s275</td><td>tv show</td><td>Grace and Frankie</td><td>Unknown</td><td>Jane Fonda, Lily Tomlin, Martin Sheen, Sam Waterston, June Diane Raphael, Brooklyn Decker, Ethan Embry, Baron Vaughn</td><td>United States</td><td>August 13, 2021</td><td>2021</td><td>TV-MA</td><td>7 Seasons</td><td>TV Comedies, TV Dramas</td><td>They’re not friends, but when their husbands leave them for each other, proper Grace and eccentric Frankie begin to bond in this Emmy-nominated series.</td><td>7</td><td>seasons</td><td>2021</td><td>8</td></tr><tr><td>s350</td><td>movie</td><td>Seabiscuit</td><td>Gary Ross</td><td>Tobey Maguire, Jeff Bridges, Chris Cooper, Elizabeth Banks, Gary Stevens, William H. Macy, David McCullough, Kingston DuCoeur, Eddie Jones, Ed Lauter, Michael O'Neill, Michael Angarano, Royce D. Applegate, Annie Corley, Valerie Mahaffey</td><td>United States</td><td>August 1, 2021</td><td>2003</td><td>PG-13</td><td>141 min</td><td>Dramas, Sports Movies</td><td>An ungainly-looking colt becomes a winning thoroughbred in this Depression-era drama based on the true story of champion racehorse Seabiscuit.</td><td>141</td><td>minutes</td><td>2021</td><td>8</td></tr><tr><td>s1775</td><td>movie</td><td>Hidden in Plain Sight</td><td>Stacia Crawford</td><td>Victoria Barabas, Gino Anthony Pesi, Jake Allyn, Deborah Van Valkenburgh, Jessica Meraz, Jack Fisher, Eve Sigall, Jerod Meagher</td><td>United States</td><td>October 30, 2020</td><td>2019</td><td>TV-14</td><td>87 min</td><td>Dramas, Independent Movies, Thrillers</td><td>A woman stages her own suicide but still lives in fear of her abusive ex-boyfriend tracking her down and stealing the son he never knew he had.</td><td>87</td><td>minutes</td><td>2020</td><td>10</td></tr></tbody></table></div>"
      ]
     },
     "metadata": {
      "application/vnd.databricks.v1+output": {
       "addedWidgets": {},
       "aggData": [],
       "aggError": "",
       "aggOverflow": false,
       "aggSchema": [],
       "aggSeriesLimitReached": false,
       "aggType": "",
       "arguments": {},
       "columnCustomDisplayInfos": {},
       "data": [
        [
         "s579",
         "movie",
         "Memoirs of a Geisha",
         "Rob Marshall",
         "Zhang Ziyi, Ken Watanabe, Koji Yakusho, Michelle Yeoh, Kaori Momoi, Youki Kudoh, Gong Li, Cary-Hiroyuki Tagawa, Mako Iwamatsu, Navia Nguyen, Karl Yune",
         "France, Japan, United States",
         "July 1, 2021",
         2005,
         "PG-13",
         "145 min",
         "Dramas, Romantic Movies",
         "Sold to a geisha house as a child, a fisherman’s daughter becomes the most sought-after geisha in Kyoto, but rivalries threaten the destiny she desires.",
         145,
         "minutes",
         2021,
         7
        ],
        [
         "s2322",
         "movie",
         "George Lopez: We'll Do It For Half",
         "Troy Miller",
         "George Lopez",
         "United States",
         "June 30, 2020",
         2020,
         "TV-MA",
         "52 min",
         "Stand-Up Comedy",
         "Comedian George Lopez tackles the future and the past of Latinx culture in America, touching on immigration, his tough relatives, aging and much more.",
         52,
         "minutes",
         2020,
         6
        ],
        [
         "s275",
         "tv show",
         "Grace and Frankie",
         "Unknown",
         "Jane Fonda, Lily Tomlin, Martin Sheen, Sam Waterston, June Diane Raphael, Brooklyn Decker, Ethan Embry, Baron Vaughn",
         "United States",
         "August 13, 2021",
         2021,
         "TV-MA",
         "7 Seasons",
         "TV Comedies, TV Dramas",
         "They’re not friends, but when their husbands leave them for each other, proper Grace and eccentric Frankie begin to bond in this Emmy-nominated series.",
         7,
         "seasons",
         2021,
         8
        ],
        [
         "s350",
         "movie",
         "Seabiscuit",
         "Gary Ross",
         "Tobey Maguire, Jeff Bridges, Chris Cooper, Elizabeth Banks, Gary Stevens, William H. Macy, David McCullough, Kingston DuCoeur, Eddie Jones, Ed Lauter, Michael O'Neill, Michael Angarano, Royce D. Applegate, Annie Corley, Valerie Mahaffey",
         "United States",
         "August 1, 2021",
         2003,
         "PG-13",
         "141 min",
         "Dramas, Sports Movies",
         "An ungainly-looking colt becomes a winning thoroughbred in this Depression-era drama based on the true story of champion racehorse Seabiscuit.",
         141,
         "minutes",
         2021,
         8
        ],
        [
         "s1775",
         "movie",
         "Hidden in Plain Sight",
         "Stacia Crawford",
         "Victoria Barabas, Gino Anthony Pesi, Jake Allyn, Deborah Van Valkenburgh, Jessica Meraz, Jack Fisher, Eve Sigall, Jerod Meagher",
         "United States",
         "October 30, 2020",
         2019,
         "TV-14",
         "87 min",
         "Dramas, Independent Movies, Thrillers",
         "A woman stages her own suicide but still lives in fear of her abusive ex-boyfriend tracking her down and stealing the son he never knew he had.",
         87,
         "minutes",
         2020,
         10
        ]
       ],
       "datasetInfos": [],
       "dbfsResultPath": null,
       "isJsonSchema": true,
       "metadata": {},
       "overflow": false,
       "plotOptions": {
        "customPlotOptions": {},
        "displayType": "table",
        "pivotAggregation": null,
        "pivotColumns": null,
        "xColumns": null,
        "yColumns": null
       },
       "removedWidgets": [],
       "schema": [
        {
         "metadata": "{}",
         "name": "show_id",
         "type": "\"string\""
        },
        {
         "metadata": "{}",
         "name": "type",
         "type": "\"string\""
        },
        {
         "metadata": "{}",
         "name": "title",
         "type": "\"string\""
        },
        {
         "metadata": "{}",
         "name": "director",
         "type": "\"string\""
        },
        {
         "metadata": "{}",
         "name": "cast",
         "type": "\"string\""
        },
        {
         "metadata": "{}",
         "name": "country",
         "type": "\"string\""
        },
        {
         "metadata": "{}",
         "name": "date_added",
         "type": "\"string\""
        },
        {
         "metadata": "{}",
         "name": "release_year",
         "type": "\"integer\""
        },
        {
         "metadata": "{}",
         "name": "rating",
         "type": "\"string\""
        },
        {
         "metadata": "{}",
         "name": "duration",
         "type": "\"string\""
        },
        {
         "metadata": "{}",
         "name": "listed_in",
         "type": "\"string\""
        },
        {
         "metadata": "{}",
         "name": "description",
         "type": "\"string\""
        },
        {
         "metadata": "{}",
         "name": "duration_int",
         "type": "\"integer\""
        },
        {
         "metadata": "{}",
         "name": "duration_type",
         "type": "\"string\""
        },
        {
         "metadata": "{}",
         "name": "added_year",
         "type": "\"integer\""
        },
        {
         "metadata": "{}",
         "name": "added_month",
         "type": "\"integer\""
        }
       ],
       "type": "table"
      }
     },
     "output_type": "display_data"
    }
   ],
   "source": [
    "df.printSchema()\n",
    "display(df.limit(5))\n"
   ]
  },
  {
   "cell_type": "code",
   "execution_count": 0,
   "metadata": {
    "application/vnd.databricks.v1+cell": {
     "cellMetadata": {
      "byteLimit": 2048000,
      "rowLimit": 10000
     },
     "inputWidgets": {},
     "nuid": "de3b13f7-6d8d-4af9-a7c3-8a3bf9c41700",
     "showTitle": false,
     "tableResultSettingsMap": {},
     "title": ""
    }
   },
   "outputs": [
    {
     "output_type": "stream",
     "name": "stdout",
     "output_type": "stream",
     "text": [
      "String columns: ['show_id', 'type', 'title', 'director', 'cast', 'country', 'date_added', 'rating', 'duration', 'listed_in', 'description', 'duration_type']\nNumeric columns: ['release_year', 'duration_int', 'added_year', 'added_month']\n"
     ]
    }
   ],
   "source": [
    "string_cols = [field.name for field in df.schema.fields if isinstance(field.dataType, StringType)]\n",
    "numeric_cols = [field.name for field in df.schema.fields if isinstance(field.dataType, (IntegerType, LongType, DoubleType, FloatType))]\n",
    "\n",
    "print(f\"String columns: {string_cols}\")\n",
    "print(f\"Numeric columns: {numeric_cols}\")"
   ]
  },
  {
   "cell_type": "code",
   "execution_count": 0,
   "metadata": {
    "application/vnd.databricks.v1+cell": {
     "cellMetadata": {
      "byteLimit": 2048000,
      "rowLimit": 10000
     },
     "inputWidgets": {},
     "nuid": "d6d4dcc7-fb19-4c80-a7d0-6b4675aa71a0",
     "showTitle": false,
     "tableResultSettingsMap": {},
     "title": ""
    }
   },
   "outputs": [],
   "source": [
    "\n",
    "categorical_cols_to_fill = ['type', 'rating', 'duration_type', 'country', 'director', 'cast', 'listed_in']\n",
    "numerical_cols_to_fill = ['release_year', 'duration_int', 'added_year', 'added_month']\n"
   ]
  },
  {
   "cell_type": "code",
   "execution_count": 0,
   "metadata": {
    "application/vnd.databricks.v1+cell": {
     "cellMetadata": {
      "byteLimit": 2048000,
      "rowLimit": 10000
     },
     "inputWidgets": {},
     "nuid": "88d8c397-84ed-426d-99da-0d72b06251ed",
     "showTitle": false,
     "tableResultSettingsMap": {},
     "title": ""
    }
   },
   "outputs": [],
   "source": [
    "for col_name in categorical_cols_to_fill:\n",
    "    if col_name in df.columns and col_name in string_cols:\n",
    "        df = df.withColumn(col_name, when(col(col_name).isNull(), \"Unknown\").otherwise(col(col_name)))\n"
   ]
  },
  {
   "cell_type": "code",
   "execution_count": 0,
   "metadata": {
    "application/vnd.databricks.v1+cell": {
     "cellMetadata": {
      "byteLimit": 2048000,
      "rowLimit": 10000
     },
     "inputWidgets": {},
     "nuid": "4e2c3f66-af77-436b-8255-6d1e563a23a5",
     "showTitle": false,
     "tableResultSettingsMap": {},
     "title": ""
    }
   },
   "outputs": [
    {
     "output_type": "stream",
     "name": "stdout",
     "output_type": "stream",
     "text": [
      "✓ Null values handled\n"
     ]
    }
   ],
   "source": [
    "for col_name in numerical_cols_to_fill:\n",
    "    if col_name in df.columns and col_name in numeric_cols:\n",
    "        median_val = df.approxQuantile(col_name, [0.5], 0.01)[0] if df.filter(col(col_name).isNotNull()).count() > 0 else 0\n",
    "        df = df.withColumn(col_name, when(col(col_name).isNull(), median_val).otherwise(col(col_name)))\n",
    "\n",
    "print(\"✓ Null values handled\")\n"
   ]
  },
  {
   "cell_type": "code",
   "execution_count": 0,
   "metadata": {
    "application/vnd.databricks.v1+cell": {
     "cellMetadata": {
      "byteLimit": 2048000,
      "rowLimit": 10000
     },
     "inputWidgets": {},
     "nuid": "e3cb9972-5ea1-45e7-8cc0-e733ef53a0be",
     "showTitle": false,
     "tableResultSettingsMap": {},
     "title": ""
    }
   },
   "outputs": [
    {
     "output_type": "stream",
     "name": "stdout",
     "output_type": "stream",
     "text": [
      "\n==================================================\nLABEL ENCODING\n==================================================\n✓ Label encoding applied to: ['type', 'rating', 'duration_type']\n"
     ]
    },
    {
     "output_type": "stream",
     "name": "stderr",
     "output_type": "stream",
     "text": [
      "/databricks/python/lib/python3.12/site-packages/pyspark/sql/connect/expressions.py:1061: UserWarning: WARN WindowExpression: No Partition Defined for Window operation! Moving all data to a single partition, this can cause serious performance degradation.\n  warnings.warn(\n"
     ]
    },
    {
     "output_type": "display_data",
     "data": {
      "text/html": [
       "<style scoped>\n",
       "  .table-result-container {\n",
       "    max-height: 300px;\n",
       "    overflow: auto;\n",
       "  }\n",
       "  table, th, td {\n",
       "    border: 1px solid black;\n",
       "    border-collapse: collapse;\n",
       "  }\n",
       "  th, td {\n",
       "    padding: 5px;\n",
       "  }\n",
       "  th {\n",
       "    text-align: left;\n",
       "  }\n",
       "</style><div class='table-result-container'><table class='table-result'><thead style='background-color: white'><tr><th>type</th><th>rating</th><th>duration_type</th><th>type_label</th><th>rating_label</th><th>duration_type_label</th></tr></thead><tbody><tr><td>movie</td><td>G</td><td>minutes</td><td>0</td><td>0</td><td>0</td></tr><tr><td>movie</td><td>G</td><td>minutes</td><td>0</td><td>0</td><td>0</td></tr><tr><td>movie</td><td>G</td><td>minutes</td><td>0</td><td>0</td><td>0</td></tr><tr><td>movie</td><td>G</td><td>minutes</td><td>0</td><td>0</td><td>0</td></tr><tr><td>movie</td><td>G</td><td>minutes</td><td>0</td><td>0</td><td>0</td></tr><tr><td>movie</td><td>G</td><td>minutes</td><td>0</td><td>0</td><td>0</td></tr><tr><td>movie</td><td>G</td><td>minutes</td><td>0</td><td>0</td><td>0</td></tr><tr><td>movie</td><td>G</td><td>minutes</td><td>0</td><td>0</td><td>0</td></tr><tr><td>movie</td><td>G</td><td>minutes</td><td>0</td><td>0</td><td>0</td></tr><tr><td>movie</td><td>G</td><td>minutes</td><td>0</td><td>0</td><td>0</td></tr></tbody></table></div>"
      ]
     },
     "metadata": {
      "application/vnd.databricks.v1+output": {
       "addedWidgets": {},
       "aggData": [],
       "aggError": "",
       "aggOverflow": false,
       "aggSchema": [],
       "aggSeriesLimitReached": false,
       "aggType": "",
       "arguments": {},
       "columnCustomDisplayInfos": {},
       "data": [
        [
         "movie",
         "G",
         "minutes",
         0,
         0,
         0
        ],
        [
         "movie",
         "G",
         "minutes",
         0,
         0,
         0
        ],
        [
         "movie",
         "G",
         "minutes",
         0,
         0,
         0
        ],
        [
         "movie",
         "G",
         "minutes",
         0,
         0,
         0
        ],
        [
         "movie",
         "G",
         "minutes",
         0,
         0,
         0
        ],
        [
         "movie",
         "G",
         "minutes",
         0,
         0,
         0
        ],
        [
         "movie",
         "G",
         "minutes",
         0,
         0,
         0
        ],
        [
         "movie",
         "G",
         "minutes",
         0,
         0,
         0
        ],
        [
         "movie",
         "G",
         "minutes",
         0,
         0,
         0
        ],
        [
         "movie",
         "G",
         "minutes",
         0,
         0,
         0
        ]
       ],
       "datasetInfos": [],
       "dbfsResultPath": null,
       "isJsonSchema": true,
       "metadata": {},
       "overflow": false,
       "plotOptions": {
        "customPlotOptions": {},
        "displayType": "table",
        "pivotAggregation": null,
        "pivotColumns": null,
        "xColumns": null,
        "yColumns": null
       },
       "removedWidgets": [],
       "schema": [
        {
         "metadata": "{}",
         "name": "type",
         "type": "\"string\""
        },
        {
         "metadata": "{}",
         "name": "rating",
         "type": "\"string\""
        },
        {
         "metadata": "{}",
         "name": "duration_type",
         "type": "\"string\""
        },
        {
         "metadata": "{}",
         "name": "type_label",
         "type": "\"integer\""
        },
        {
         "metadata": "{}",
         "name": "rating_label",
         "type": "\"integer\""
        },
        {
         "metadata": "{}",
         "name": "duration_type_label",
         "type": "\"integer\""
        }
       ],
       "type": "table"
      }
     },
     "output_type": "display_data"
    }
   ],
   "source": [
    "print(\"\\n\" + \"=\"*50)\n",
    "print(\"LABEL ENCODING\")\n",
    "print(\"=\"*50)\n",
    "\n",
    "label_encode_cols = ['type', 'rating', 'duration_type']\n",
    "label_encode_cols = [col_name for col_name in label_encode_cols if col_name in df.columns]\n",
    "\n",
    "if label_encode_cols:\n",
    "    for col_name in label_encode_cols:\n",
    "        window = Window.orderBy(col(col_name))\n",
    "        df = df.withColumn(f\"{col_name}_label\", dense_rank().over(window) - 1)\n",
    "    \n",
    "    print(f\"✓ Label encoding applied to: {label_encode_cols}\")\n",
    "    display(df.select(label_encode_cols + [f\"{c}_label\" for c in label_encode_cols]).limit(10))\n",
    "else:\n",
    "    print(\"⚠ No columns found for label encoding\")\n"
   ]
  },
  {
   "cell_type": "code",
   "execution_count": 0,
   "metadata": {
    "application/vnd.databricks.v1+cell": {
     "cellMetadata": {
      "byteLimit": 2048000,
      "rowLimit": 10000
     },
     "inputWidgets": {},
     "nuid": "d19a5649-1f34-42bb-8081-8bbf3e4ce18c",
     "showTitle": false,
     "tableResultSettingsMap": {},
     "title": ""
    }
   },
   "outputs": [
    {
     "output_type": "stream",
     "name": "stdout",
     "output_type": "stream",
     "text": [
      "\n==================================================\nONE-HOT ENCODING\n==================================================\n"
     ]
    },
    {
     "output_type": "stream",
     "name": "stderr",
     "output_type": "stream",
     "text": [
      "/databricks/python/lib/python3.12/site-packages/pyspark/sql/connect/expressions.py:1061: UserWarning: WARN WindowExpression: No Partition Defined for Window operation! Moving all data to a single partition, this can cause serious performance degradation.\n  warnings.warn(\n"
     ]
    },
    {
     "output_type": "stream",
     "name": "stdout",
     "output_type": "stream",
     "text": [
      "✓ One-hot encoding applied to: country (50 categories)\n"
     ]
    },
    {
     "output_type": "display_data",
     "data": {
      "text/html": [
       "<style scoped>\n",
       "  .table-result-container {\n",
       "    max-height: 300px;\n",
       "    overflow: auto;\n",
       "  }\n",
       "  table, th, td {\n",
       "    border: 1px solid black;\n",
       "    border-collapse: collapse;\n",
       "  }\n",
       "  th, td {\n",
       "    padding: 5px;\n",
       "  }\n",
       "  th {\n",
       "    text-align: left;\n",
       "  }\n",
       "</style><div class='table-result-container'><table class='table-result'><thead style='background-color: white'><tr><th>country</th><th>country_onehot_South_Korea</th><th>country_onehot_France_Belgium_Luxembourg_Roma</th><th>country_onehot_Philippines_Qatar</th><th>country_onehot_France_Belgium_Italy</th><th>country_onehot_United_Kingdom_Spain</th></tr></thead><tbody><tr><td>United States</td><td>0</td><td>0</td><td>0</td><td>0</td><td>0</td></tr><tr><td>United States</td><td>0</td><td>0</td><td>0</td><td>0</td><td>0</td></tr><tr><td>United States</td><td>0</td><td>0</td><td>0</td><td>0</td><td>0</td></tr><tr><td>France, Japan, United States</td><td>0</td><td>0</td><td>0</td><td>0</td><td>0</td></tr><tr><td>United States</td><td>0</td><td>0</td><td>0</td><td>0</td><td>0</td></tr></tbody></table></div>"
      ]
     },
     "metadata": {
      "application/vnd.databricks.v1+output": {
       "addedWidgets": {},
       "aggData": [],
       "aggError": "",
       "aggOverflow": false,
       "aggSchema": [],
       "aggSeriesLimitReached": false,
       "aggType": "",
       "arguments": {},
       "columnCustomDisplayInfos": {},
       "data": [
        [
         "United States",
         0,
         0,
         0,
         0,
         0
        ],
        [
         "United States",
         0,
         0,
         0,
         0,
         0
        ],
        [
         "United States",
         0,
         0,
         0,
         0,
         0
        ],
        [
         "France, Japan, United States",
         0,
         0,
         0,
         0,
         0
        ],
        [
         "United States",
         0,
         0,
         0,
         0,
         0
        ]
       ],
       "datasetInfos": [],
       "dbfsResultPath": null,
       "isJsonSchema": true,
       "metadata": {},
       "overflow": false,
       "plotOptions": {
        "customPlotOptions": {},
        "displayType": "table",
        "pivotAggregation": null,
        "pivotColumns": null,
        "xColumns": null,
        "yColumns": null
       },
       "removedWidgets": [],
       "schema": [
        {
         "metadata": "{}",
         "name": "country",
         "type": "\"string\""
        },
        {
         "metadata": "{}",
         "name": "country_onehot_South_Korea",
         "type": "\"integer\""
        },
        {
         "metadata": "{}",
         "name": "country_onehot_France_Belgium_Luxembourg_Roma",
         "type": "\"integer\""
        },
        {
         "metadata": "{}",
         "name": "country_onehot_Philippines_Qatar",
         "type": "\"integer\""
        },
        {
         "metadata": "{}",
         "name": "country_onehot_France_Belgium_Italy",
         "type": "\"integer\""
        },
        {
         "metadata": "{}",
         "name": "country_onehot_United_Kingdom_Spain",
         "type": "\"integer\""
        }
       ],
       "type": "table"
      }
     },
     "output_type": "display_data"
    }
   ],
   "source": [
    "\n",
    "print(\"\\n\" + \"=\"*50)\n",
    "print(\"ONE-HOT ENCODING\")\n",
    "print(\"=\"*50)\n",
    "\n",
    "onehot_cols = ['country']\n",
    "onehot_cols = [col_name for col_name in onehot_cols if col_name in df.columns and col_name in string_cols]\n",
    "\n",
    "if onehot_cols:\n",
    "    for col_name in onehot_cols:\n",
    "        unique_vals = [row[0] for row in df.select(col_name).distinct().limit(50).collect()]\n",
    "        \n",
    "        for val in unique_vals:\n",
    "            safe_val = str(val).replace(\" \", \"_\").replace(\"-\", \"_\").replace(\",\", \"\")[:30]\n",
    "            df = df.withColumn(\n",
    "                f\"{col_name}_onehot_{safe_val}\", \n",
    "                when(col(col_name) == val, 1).otherwise(0)\n",
    "            )\n",
    "        \n",
    "        print(f\"✓ One-hot encoding applied to: {col_name} ({len(unique_vals)} categories)\")\n",
    "    \n",
    "    onehot_sample_cols = [c for c in df.columns if any(x in c for x in onehot_cols) and 'onehot' in c][:5]\n",
    "    display(df.select(onehot_cols + onehot_sample_cols).limit(5))\n",
    "else:\n",
    "    print(\"⚠ No columns found for one-hot encoding\")\n"
   ]
  },
  {
   "cell_type": "code",
   "execution_count": 0,
   "metadata": {
    "application/vnd.databricks.v1+cell": {
     "cellMetadata": {
      "byteLimit": 2048000,
      "rowLimit": 10000
     },
     "inputWidgets": {},
     "nuid": "bf44ab84-1bb4-4422-9e1b-6e18feefd48a",
     "showTitle": false,
     "tableResultSettingsMap": {},
     "title": ""
    }
   },
   "outputs": [
    {
     "output_type": "stream",
     "name": "stdout",
     "output_type": "stream",
     "text": [
      "\n==================================================\nFREQUENCY ENCODING\n==================================================\n"
     ]
    },
    {
     "output_type": "stream",
     "name": "stderr",
     "output_type": "stream",
     "text": [
      "/databricks/python/lib/python3.12/site-packages/pyspark/sql/connect/expressions.py:1061: UserWarning: WARN WindowExpression: No Partition Defined for Window operation! Moving all data to a single partition, this can cause serious performance degradation.\n  warnings.warn(\n"
     ]
    },
    {
     "output_type": "stream",
     "name": "stdout",
     "output_type": "stream",
     "text": [
      "✓ Frequency encoding applied to: director\n"
     ]
    },
    {
     "output_type": "display_data",
     "data": {
      "text/html": [
       "<style scoped>\n",
       "  .table-result-container {\n",
       "    max-height: 300px;\n",
       "    overflow: auto;\n",
       "  }\n",
       "  table, th, td {\n",
       "    border: 1px solid black;\n",
       "    border-collapse: collapse;\n",
       "  }\n",
       "  th, td {\n",
       "    padding: 5px;\n",
       "  }\n",
       "  th {\n",
       "    text-align: left;\n",
       "  }\n",
       "</style><div class='table-result-container'><table class='table-result'><thead style='background-color: white'><tr><th>director</th><th>director_freq</th></tr></thead><tbody><tr><td>Unknown</td><td>0.30221788934925664</td></tr><tr><td>Rajiv Chilaka</td><td>0.0021935169388252497</td></tr><tr><td>Marcus Raboy</td><td>0.0019497928345113332</td></tr><tr><td>Raúl Campos, Jan Suter</td><td>0.0019497928345113332</td></tr><tr><td>Steven Spielberg</td><td>0.0019497928345113332</td></tr></tbody></table></div>"
      ]
     },
     "metadata": {
      "application/vnd.databricks.v1+output": {
       "addedWidgets": {},
       "aggData": [],
       "aggError": "",
       "aggOverflow": false,
       "aggSchema": [],
       "aggSeriesLimitReached": false,
       "aggType": "",
       "arguments": {},
       "columnCustomDisplayInfos": {},
       "data": [
        [
         "Unknown",
         0.30221788934925664
        ],
        [
         "Rajiv Chilaka",
         0.0021935169388252497
        ],
        [
         "Marcus Raboy",
         0.0019497928345113332
        ],
        [
         "Raúl Campos, Jan Suter",
         0.0019497928345113332
        ],
        [
         "Steven Spielberg",
         0.0019497928345113332
        ]
       ],
       "datasetInfos": [],
       "dbfsResultPath": null,
       "isJsonSchema": true,
       "metadata": {},
       "overflow": false,
       "plotOptions": {
        "customPlotOptions": {},
        "displayType": "table",
        "pivotAggregation": null,
        "pivotColumns": null,
        "xColumns": null,
        "yColumns": null
       },
       "removedWidgets": [],
       "schema": [
        {
         "metadata": "{}",
         "name": "director",
         "type": "\"string\""
        },
        {
         "metadata": "{}",
         "name": "director_freq",
         "type": "\"double\""
        }
       ],
       "type": "table"
      }
     },
     "output_type": "display_data"
    },
    {
     "output_type": "stream",
     "name": "stdout",
     "output_type": "stream",
     "text": [
      "✓ Frequency encoding applied to: cast\n"
     ]
    },
    {
     "output_type": "display_data",
     "data": {
      "text/html": [
       "<style scoped>\n",
       "  .table-result-container {\n",
       "    max-height: 300px;\n",
       "    overflow: auto;\n",
       "  }\n",
       "  table, th, td {\n",
       "    border: 1px solid black;\n",
       "    border-collapse: collapse;\n",
       "  }\n",
       "  th, td {\n",
       "    padding: 5px;\n",
       "  }\n",
       "  th {\n",
       "    text-align: left;\n",
       "  }\n",
       "</style><div class='table-result-container'><table class='table-result'><thead style='background-color: white'><tr><th>cast</th><th>cast_freq</th></tr></thead><tbody><tr><td>Unknown</td><td>0.09578357299536924</td></tr><tr><td>David Attenborough</td><td>0.0019497928345113332</td></tr><tr><td>Vatsal Dubey, Julie Tejwani, Rupa Bhimani, Jigna Bhardwaj, Rajesh Kava, Mousam, Swapnil</td><td>0.0017060687301974165</td></tr><tr><td>David Spade, London Hughes, Fortune Feimster</td><td>0.0012186205215695832</td></tr><tr><td>Iliza Shlesinger</td><td>9.748964172556666E-4</td></tr></tbody></table></div>"
      ]
     },
     "metadata": {
      "application/vnd.databricks.v1+output": {
       "addedWidgets": {},
       "aggData": [],
       "aggError": "",
       "aggOverflow": false,
       "aggSchema": [],
       "aggSeriesLimitReached": false,
       "aggType": "",
       "arguments": {},
       "columnCustomDisplayInfos": {},
       "data": [
        [
         "Unknown",
         0.09578357299536924
        ],
        [
         "David Attenborough",
         0.0019497928345113332
        ],
        [
         "Vatsal Dubey, Julie Tejwani, Rupa Bhimani, Jigna Bhardwaj, Rajesh Kava, Mousam, Swapnil",
         0.0017060687301974165
        ],
        [
         "David Spade, London Hughes, Fortune Feimster",
         0.0012186205215695832
        ],
        [
         "Iliza Shlesinger",
         9.748964172556666E-4
        ]
       ],
       "datasetInfos": [],
       "dbfsResultPath": null,
       "isJsonSchema": true,
       "metadata": {},
       "overflow": false,
       "plotOptions": {
        "customPlotOptions": {},
        "displayType": "table",
        "pivotAggregation": null,
        "pivotColumns": null,
        "xColumns": null,
        "yColumns": null
       },
       "removedWidgets": [],
       "schema": [
        {
         "metadata": "{}",
         "name": "cast",
         "type": "\"string\""
        },
        {
         "metadata": "{}",
         "name": "cast_freq",
         "type": "\"double\""
        }
       ],
       "type": "table"
      }
     },
     "output_type": "display_data"
    },
    {
     "output_type": "stream",
     "name": "stdout",
     "output_type": "stream",
     "text": [
      "✓ Frequency encoding applied to: listed_in\n"
     ]
    },
    {
     "output_type": "display_data",
     "data": {
      "text/html": [
       "<style scoped>\n",
       "  .table-result-container {\n",
       "    max-height: 300px;\n",
       "    overflow: auto;\n",
       "  }\n",
       "  table, th, td {\n",
       "    border: 1px solid black;\n",
       "    border-collapse: collapse;\n",
       "  }\n",
       "  th, td {\n",
       "    padding: 5px;\n",
       "  }\n",
       "  th {\n",
       "    text-align: left;\n",
       "  }\n",
       "</style><div class='table-result-container'><table class='table-result'><thead style='background-color: white'><tr><th>listed_in</th><th>listed_in_freq</th></tr></thead><tbody><tr><td>Documentaries</td><td>0.040214477211796246</td></tr><tr><td>Stand-Up Comedy</td><td>0.03899585669022666</td></tr><tr><td>Dramas, International Movies</td><td>0.03777723616865708</td></tr><tr><td>Comedies, Dramas, International Movies</td><td>0.03290275408237875</td></tr><tr><td>Dramas, Independent Movies, International Movies</td><td>0.027297099683158663</td></tr></tbody></table></div>"
      ]
     },
     "metadata": {
      "application/vnd.databricks.v1+output": {
       "addedWidgets": {},
       "aggData": [],
       "aggError": "",
       "aggOverflow": false,
       "aggSchema": [],
       "aggSeriesLimitReached": false,
       "aggType": "",
       "arguments": {},
       "columnCustomDisplayInfos": {},
       "data": [
        [
         "Documentaries",
         0.040214477211796246
        ],
        [
         "Stand-Up Comedy",
         0.03899585669022666
        ],
        [
         "Dramas, International Movies",
         0.03777723616865708
        ],
        [
         "Comedies, Dramas, International Movies",
         0.03290275408237875
        ],
        [
         "Dramas, Independent Movies, International Movies",
         0.027297099683158663
        ]
       ],
       "datasetInfos": [],
       "dbfsResultPath": null,
       "isJsonSchema": true,
       "metadata": {},
       "overflow": false,
       "plotOptions": {
        "customPlotOptions": {},
        "displayType": "table",
        "pivotAggregation": null,
        "pivotColumns": null,
        "xColumns": null,
        "yColumns": null
       },
       "removedWidgets": [],
       "schema": [
        {
         "metadata": "{}",
         "name": "listed_in",
         "type": "\"string\""
        },
        {
         "metadata": "{}",
         "name": "listed_in_freq",
         "type": "\"double\""
        }
       ],
       "type": "table"
      }
     },
     "output_type": "display_data"
    }
   ],
   "source": [
    "print(\"\\n\" + \"=\"*50)\n",
    "print(\"FREQUENCY ENCODING\")\n",
    "print(\"=\"*50)\n",
    "\n",
    "freq_encode_cols = ['director', 'cast', 'listed_in']\n",
    "freq_encode_cols = [col_name for col_name in freq_encode_cols if col_name in df.columns]\n",
    "\n",
    "if freq_encode_cols:\n",
    "    for col_name in freq_encode_cols:\n",
    "        freq_df = df.groupBy(col_name).agg(count(\"*\").alias(\"count\"))\n",
    "        total_count = df.count()\n",
    "        \n",
    "        freq_df = freq_df.withColumn(f\"{col_name}_freq\", col(\"count\") / total_count)\n",
    "        \n",
    "        df = df.join(\n",
    "            freq_df.select(col_name, f\"{col_name}_freq\"), \n",
    "            on=col_name, \n",
    "            how=\"left\"\n",
    "        )\n",
    "        \n",
    "        print(f\"✓ Frequency encoding applied to: {col_name}\")\n",
    "        display(df.select(col_name, f\"{col_name}_freq\").distinct().orderBy(col(f\"{col_name}_freq\").desc()).limit(5))\n",
    "else:\n",
    "    print(\"⚠ No columns found for frequency encoding\")"
   ]
  },
  {
   "cell_type": "code",
   "execution_count": 0,
   "metadata": {
    "application/vnd.databricks.v1+cell": {
     "cellMetadata": {
      "byteLimit": 2048000,
      "rowLimit": 10000
     },
     "inputWidgets": {},
     "nuid": "01dfa379-9de8-4bbc-a93f-0768ad92b42b",
     "showTitle": false,
     "tableResultSettingsMap": {},
     "title": ""
    }
   },
   "outputs": [
    {
     "output_type": "stream",
     "name": "stdout",
     "output_type": "stream",
     "text": [
      "\n==================================================\nMIN-MAX NORMALIZATION\n==================================================\n"
     ]
    },
    {
     "output_type": "stream",
     "name": "stderr",
     "output_type": "stream",
     "text": [
      "/databricks/python/lib/python3.12/site-packages/pyspark/sql/connect/expressions.py:1061: UserWarning: WARN WindowExpression: No Partition Defined for Window operation! Moving all data to a single partition, this can cause serious performance degradation.\n  warnings.warn(\n"
     ]
    },
    {
     "output_type": "stream",
     "name": "stdout",
     "output_type": "stream",
     "text": [
      "✓ Normalization applied to: ['release_year', 'duration_int', 'added_year']\n"
     ]
    },
    {
     "output_type": "display_data",
     "data": {
      "text/html": [
       "<style scoped>\n",
       "  .table-result-container {\n",
       "    max-height: 300px;\n",
       "    overflow: auto;\n",
       "  }\n",
       "  table, th, td {\n",
       "    border: 1px solid black;\n",
       "    border-collapse: collapse;\n",
       "  }\n",
       "  th, td {\n",
       "    padding: 5px;\n",
       "  }\n",
       "  th {\n",
       "    text-align: left;\n",
       "  }\n",
       "</style><div class='table-result-container'><table class='table-result'><thead style='background-color: white'><tr><th>release_year</th><th>duration_int</th><th>added_year</th><th>release_year_normalized</th><th>duration_int_normalized</th><th>added_year_normalized</th></tr></thead><tbody><tr><td>2005.0</td><td>145.0</td><td>2021.0</td><td>0.8333333333333334</td><td>0.6101694915254238</td><td>1.0</td></tr><tr><td>2020.0</td><td>52.0</td><td>2020.0</td><td>0.9895833333333334</td><td>0.21610169491525424</td><td>0.9230769230769231</td></tr><tr><td>2003.0</td><td>141.0</td><td>2021.0</td><td>0.8125</td><td>0.5932203389830508</td><td>1.0</td></tr><tr><td>2019.0</td><td>87.0</td><td>2020.0</td><td>0.9791666666666666</td><td>0.3644067796610169</td><td>0.9230769230769231</td></tr><tr><td>2020.0</td><td>104.0</td><td>2020.0</td><td>0.9895833333333334</td><td>0.4364406779661017</td><td>0.9230769230769231</td></tr><tr><td>1991.0</td><td>105.0</td><td>2021.0</td><td>0.6875</td><td>0.4406779661016949</td><td>1.0</td></tr><tr><td>2005.0</td><td>87.0</td><td>2020.0</td><td>0.8333333333333334</td><td>0.3644067796610169</td><td>0.9230769230769231</td></tr><tr><td>1979.0</td><td>237.0</td><td>2020.0</td><td>0.5625</td><td>1.0</td><td>0.9230769230769231</td></tr><tr><td>1997.0</td><td>125.0</td><td>2021.0</td><td>0.75</td><td>0.5254237288135594</td><td>1.0</td></tr><tr><td>2021.0</td><td>83.0</td><td>2021.0</td><td>1.0</td><td>0.3474576271186441</td><td>1.0</td></tr></tbody></table></div>"
      ]
     },
     "metadata": {
      "application/vnd.databricks.v1+output": {
       "addedWidgets": {},
       "aggData": [],
       "aggError": "",
       "aggOverflow": false,
       "aggSchema": [],
       "aggSeriesLimitReached": false,
       "aggType": "",
       "arguments": {},
       "columnCustomDisplayInfos": {},
       "data": [
        [
         2005.0,
         145.0,
         2021.0,
         0.8333333333333334,
         0.6101694915254238,
         1.0
        ],
        [
         2020.0,
         52.0,
         2020.0,
         0.9895833333333334,
         0.21610169491525424,
         0.9230769230769231
        ],
        [
         2003.0,
         141.0,
         2021.0,
         0.8125,
         0.5932203389830508,
         1.0
        ],
        [
         2019.0,
         87.0,
         2020.0,
         0.9791666666666666,
         0.3644067796610169,
         0.9230769230769231
        ],
        [
         2020.0,
         104.0,
         2020.0,
         0.9895833333333334,
         0.4364406779661017,
         0.9230769230769231
        ],
        [
         1991.0,
         105.0,
         2021.0,
         0.6875,
         0.4406779661016949,
         1.0
        ],
        [
         2005.0,
         87.0,
         2020.0,
         0.8333333333333334,
         0.3644067796610169,
         0.9230769230769231
        ],
        [
         1979.0,
         237.0,
         2020.0,
         0.5625,
         1.0,
         0.9230769230769231
        ],
        [
         1997.0,
         125.0,
         2021.0,
         0.75,
         0.5254237288135594,
         1.0
        ],
        [
         2021.0,
         83.0,
         2021.0,
         1.0,
         0.3474576271186441,
         1.0
        ]
       ],
       "datasetInfos": [],
       "dbfsResultPath": null,
       "isJsonSchema": true,
       "metadata": {},
       "overflow": false,
       "plotOptions": {
        "customPlotOptions": {},
        "displayType": "table",
        "pivotAggregation": null,
        "pivotColumns": null,
        "xColumns": null,
        "yColumns": null
       },
       "removedWidgets": [],
       "schema": [
        {
         "metadata": "{}",
         "name": "release_year",
         "type": "\"double\""
        },
        {
         "metadata": "{}",
         "name": "duration_int",
         "type": "\"double\""
        },
        {
         "metadata": "{}",
         "name": "added_year",
         "type": "\"double\""
        },
        {
         "metadata": "{}",
         "name": "release_year_normalized",
         "type": "\"double\""
        },
        {
         "metadata": "{}",
         "name": "duration_int_normalized",
         "type": "\"double\""
        },
        {
         "metadata": "{}",
         "name": "added_year_normalized",
         "type": "\"double\""
        }
       ],
       "type": "table"
      }
     },
     "output_type": "display_data"
    }
   ],
   "source": [
    "print(\"\\n\" + \"=\"*50)\n",
    "print(\"MIN-MAX NORMALIZATION\")\n",
    "print(\"=\"*50)\n",
    "\n",
    "numerical_cols = ['release_year', 'duration_int', 'added_year']\n",
    "numerical_cols = [col_name for col_name in numerical_cols if col_name in df.columns]\n",
    "\n",
    "if numerical_cols:\n",
    "    for col_name in numerical_cols:\n",
    "        median_val = df.approxQuantile(col_name, [0.5], 0.01)[0]\n",
    "        df = df.withColumn(col_name, when(col(col_name).isNull(), median_val).otherwise(col(col_name)))\n",
    "    \n",
    "    for col_name in numerical_cols:\n",
    "        min_max = df.agg(min(col(col_name)).alias(\"min\"), max(col(col_name)).alias(\"max\")).collect()[0]\n",
    "        min_val = min_max[\"min\"]\n",
    "        max_val = min_max[\"max\"]\n",
    "        \n",
    "        if max_val != min_val:\n",
    "            df = df.withColumn(\n",
    "                f\"{col_name}_normalized\",\n",
    "                (col(col_name) - min_val) / (max_val - min_val)\n",
    "            )\n",
    "        else:\n",
    "            df = df.withColumn(f\"{col_name}_normalized\", lit(0.5))\n",
    "    \n",
    "    print(f\"✓ Normalization applied to: {numerical_cols}\")\n",
    "    norm_cols = [f\"{c}_normalized\" for c in numerical_cols]\n",
    "    display(df.select(numerical_cols + norm_cols).limit(10))\n",
    "else:\n",
    "    print(\"⚠ No numerical columns found for normalization\")"
   ]
  },
  {
   "cell_type": "code",
   "execution_count": 0,
   "metadata": {
    "application/vnd.databricks.v1+cell": {
     "cellMetadata": {
      "byteLimit": 2048000,
      "rowLimit": 10000
     },
     "inputWidgets": {},
     "nuid": "7e4a05a9-d339-4ce0-ba94-085e9da31ea1",
     "showTitle": false,
     "tableResultSettingsMap": {},
     "title": ""
    }
   },
   "outputs": [
    {
     "output_type": "stream",
     "name": "stdout",
     "output_type": "stream",
     "text": [
      "\n==================================================\nSTANDARDIZATION (Z-SCORE)\n==================================================\n"
     ]
    },
    {
     "output_type": "stream",
     "name": "stderr",
     "output_type": "stream",
     "text": [
      "/databricks/python/lib/python3.12/site-packages/pyspark/sql/connect/expressions.py:1061: UserWarning: WARN WindowExpression: No Partition Defined for Window operation! Moving all data to a single partition, this can cause serious performance degradation.\n  warnings.warn(\n"
     ]
    },
    {
     "output_type": "stream",
     "name": "stdout",
     "output_type": "stream",
     "text": [
      "✓ Standardization applied to: ['release_year', 'duration_int', 'added_year']\n"
     ]
    },
    {
     "output_type": "display_data",
     "data": {
      "text/html": [
       "<style scoped>\n",
       "  .table-result-container {\n",
       "    max-height: 300px;\n",
       "    overflow: auto;\n",
       "  }\n",
       "  table, th, td {\n",
       "    border: 1px solid black;\n",
       "    border-collapse: collapse;\n",
       "  }\n",
       "  th, td {\n",
       "    padding: 5px;\n",
       "  }\n",
       "  th {\n",
       "    text-align: left;\n",
       "  }\n",
       "</style><div class='table-result-container'><table class='table-result'><thead style='background-color: white'><tr><th>release_year</th><th>duration_int</th><th>added_year</th><th>release_year_standardized</th><th>duration_int_standardized</th><th>added_year_standardized</th></tr></thead><tbody><tr><td>2005.0</td><td>145.0</td><td>2021.0</td><td>-1.0342800820729392</td><td>1.4736807878731353</td><td>1.3435264790132986</td></tr><tr><td>2020.0</td><td>52.0</td><td>2020.0</td><td>0.6523410369005618</td><td>-0.34285119738285097</td><td>0.716180497063682</td></tr><tr><td>2003.0</td><td>141.0</td><td>2021.0</td><td>-1.2591628979360725</td><td>1.3955503799051359</td><td>1.3435264790132986</td></tr><tr><td>2019.0</td><td>87.0</td><td>2020.0</td><td>0.5398996289689951</td><td>0.34078987233714386</td><td>0.716180497063682</td></tr><tr><td>2020.0</td><td>104.0</td><td>2020.0</td><td>0.6523410369005618</td><td>0.6728441062011413</td><td>0.716180497063682</td></tr><tr><td>1991.0</td><td>105.0</td><td>2021.0</td><td>-2.608459793114873</td><td>0.6923767081931411</td><td>1.3435264790132986</td></tr><tr><td>2005.0</td><td>87.0</td><td>2020.0</td><td>-1.0342800820729392</td><td>0.34078987233714386</td><td>0.716180497063682</td></tr><tr><td>1979.0</td><td>237.0</td><td>2020.0</td><td>-3.957756688293674</td><td>3.2706801711371214</td><td>0.716180497063682</td></tr><tr><td>1997.0</td><td>125.0</td><td>2021.0</td><td>-1.9338113455254728</td><td>1.0830287480331382</td><td>1.3435264790132986</td></tr><tr><td>2021.0</td><td>83.0</td><td>2021.0</td><td>0.7647824448321285</td><td>0.26265946436914445</td><td>1.3435264790132986</td></tr></tbody></table></div>"
      ]
     },
     "metadata": {
      "application/vnd.databricks.v1+output": {
       "addedWidgets": {},
       "aggData": [],
       "aggError": "",
       "aggOverflow": false,
       "aggSchema": [],
       "aggSeriesLimitReached": false,
       "aggType": "",
       "arguments": {},
       "columnCustomDisplayInfos": {},
       "data": [
        [
         2005.0,
         145.0,
         2021.0,
         -1.0342800820729392,
         1.4736807878731353,
         1.3435264790132986
        ],
        [
         2020.0,
         52.0,
         2020.0,
         0.6523410369005618,
         -0.34285119738285097,
         0.716180497063682
        ],
        [
         2003.0,
         141.0,
         2021.0,
         -1.2591628979360725,
         1.3955503799051359,
         1.3435264790132986
        ],
        [
         2019.0,
         87.0,
         2020.0,
         0.5398996289689951,
         0.34078987233714386,
         0.716180497063682
        ],
        [
         2020.0,
         104.0,
         2020.0,
         0.6523410369005618,
         0.6728441062011413,
         0.716180497063682
        ],
        [
         1991.0,
         105.0,
         2021.0,
         -2.608459793114873,
         0.6923767081931411,
         1.3435264790132986
        ],
        [
         2005.0,
         87.0,
         2020.0,
         -1.0342800820729392,
         0.34078987233714386,
         0.716180497063682
        ],
        [
         1979.0,
         237.0,
         2020.0,
         -3.957756688293674,
         3.2706801711371214,
         0.716180497063682
        ],
        [
         1997.0,
         125.0,
         2021.0,
         -1.9338113455254728,
         1.0830287480331382,
         1.3435264790132986
        ],
        [
         2021.0,
         83.0,
         2021.0,
         0.7647824448321285,
         0.26265946436914445,
         1.3435264790132986
        ]
       ],
       "datasetInfos": [],
       "dbfsResultPath": null,
       "isJsonSchema": true,
       "metadata": {},
       "overflow": false,
       "plotOptions": {
        "customPlotOptions": {},
        "displayType": "table",
        "pivotAggregation": null,
        "pivotColumns": null,
        "xColumns": null,
        "yColumns": null
       },
       "removedWidgets": [],
       "schema": [
        {
         "metadata": "{}",
         "name": "release_year",
         "type": "\"double\""
        },
        {
         "metadata": "{}",
         "name": "duration_int",
         "type": "\"double\""
        },
        {
         "metadata": "{}",
         "name": "added_year",
         "type": "\"double\""
        },
        {
         "metadata": "{}",
         "name": "release_year_standardized",
         "type": "\"double\""
        },
        {
         "metadata": "{}",
         "name": "duration_int_standardized",
         "type": "\"double\""
        },
        {
         "metadata": "{}",
         "name": "added_year_standardized",
         "type": "\"double\""
        }
       ],
       "type": "table"
      }
     },
     "output_type": "display_data"
    }
   ],
   "source": [
    "print(\"\\n\" + \"=\"*50)\n",
    "print(\"STANDARDIZATION (Z-SCORE)\")\n",
    "print(\"=\"*50)\n",
    "\n",
    "if numerical_cols:\n",
    "    for col_name in numerical_cols:\n",
    "        stats = df.agg(\n",
    "            mean(col(col_name)).alias(\"mean\"),\n",
    "            stddev(col(col_name)).alias(\"stddev\")\n",
    "        ).collect()[0]\n",
    "        \n",
    "        mean_val = stats[\"mean\"]\n",
    "        stddev_val = stats[\"stddev\"]\n",
    "        \n",
    "        if stddev_val and stddev_val != 0:\n",
    "            df = df.withColumn(\n",
    "                f\"{col_name}_standardized\",\n",
    "                (col(col_name) - mean_val) / stddev_val\n",
    "            )\n",
    "        else:\n",
    "            df = df.withColumn(f\"{col_name}_standardized\", lit(0.0))\n",
    "    \n",
    "    print(f\"✓ Standardization applied to: {numerical_cols}\")\n",
    "    std_cols = [f\"{c}_standardized\" for c in numerical_cols]\n",
    "    display(df.select(numerical_cols + std_cols).limit(10))\n",
    "else:\n",
    "    print(\"⚠ Standardization skipped\")\n"
   ]
  },
  {
   "cell_type": "code",
   "execution_count": 0,
   "metadata": {
    "application/vnd.databricks.v1+cell": {
     "cellMetadata": {
      "byteLimit": 2048000,
      "rowLimit": 10000
     },
     "inputWidgets": {},
     "nuid": "66ecf695-ef41-4f37-ae8e-21f38fcd48f2",
     "showTitle": false,
     "tableResultSettingsMap": {},
     "title": ""
    }
   },
   "outputs": [
    {
     "output_type": "stream",
     "name": "stdout",
     "output_type": "stream",
     "text": [
      "\n==================================================\nFINAL PROCESSED DATASET\n==================================================\n"
     ]
    },
    {
     "output_type": "stream",
     "name": "stderr",
     "output_type": "stream",
     "text": [
      "/databricks/python/lib/python3.12/site-packages/pyspark/sql/connect/expressions.py:1061: UserWarning: WARN WindowExpression: No Partition Defined for Window operation! Moving all data to a single partition, this can cause serious performance degradation.\n  warnings.warn(\n"
     ]
    },
    {
     "output_type": "stream",
     "name": "stdout",
     "output_type": "stream",
     "text": [
      "Total Rows: 4103\nTotal Columns: 78\n\nEncoded Column Summary:\n  - Label Encoded: 3 columns\n  - One-Hot Encoded: 50 columns\n  - Frequency Encoded: 3 columns\n  - Normalized: 3 columns\n  - Standardized: 3 columns\n"
     ]
    }
   ],
   "source": [
    "print(\"\\n\" + \"=\"*50)\n",
    "print(\"FINAL PROCESSED DATASET\")\n",
    "print(\"=\"*50)\n",
    "\n",
    "print(f\"Total Rows: {df.count()}\")\n",
    "print(f\"Total Columns: {len(df.columns)}\")\n",
    "print(\"\\nEncoded Column Summary:\")\n",
    "print(f\"  - Label Encoded: {len([c for c in df.columns if '_label' in c])} columns\")\n",
    "print(f\"  - One-Hot Encoded: {len([c for c in df.columns if '_onehot_' in c])} columns\")\n",
    "print(f\"  - Frequency Encoded: {len([c for c in df.columns if '_freq' in c])} columns\")\n",
    "print(f\"  - Normalized: {len([c for c in df.columns if '_normalized' in c])} columns\")\n",
    "print(f\"  - Standardized: {len([c for c in df.columns if '_standardized' in c])} columns\")\n"
   ]
  },
  {
   "cell_type": "code",
   "execution_count": 0,
   "metadata": {
    "application/vnd.databricks.v1+cell": {
     "cellMetadata": {
      "byteLimit": 2048000,
      "rowLimit": 10000
     },
     "inputWidgets": {},
     "nuid": "b3e1c5f5-0b5b-480d-859c-4a54ff465659",
     "showTitle": false,
     "tableResultSettingsMap": {},
     "title": ""
    }
   },
   "outputs": [
    {
     "output_type": "stream",
     "name": "stderr",
     "output_type": "stream",
     "text": [
      "/databricks/python/lib/python3.12/site-packages/pyspark/sql/connect/expressions.py:1061: UserWarning: WARN WindowExpression: No Partition Defined for Window operation! Moving all data to a single partition, this can cause serious performance degradation.\n  warnings.warn(\n"
     ]
    },
    {
     "output_type": "display_data",
     "data": {
      "text/html": [
       "<style scoped>\n",
       "  .table-result-container {\n",
       "    max-height: 300px;\n",
       "    overflow: auto;\n",
       "  }\n",
       "  table, th, td {\n",
       "    border: 1px solid black;\n",
       "    border-collapse: collapse;\n",
       "  }\n",
       "  th, td {\n",
       "    padding: 5px;\n",
       "  }\n",
       "  th {\n",
       "    text-align: left;\n",
       "  }\n",
       "</style><div class='table-result-container'><table class='table-result'><thead style='background-color: white'><tr><th>listed_in</th><th>cast</th><th>director</th><th>show_id</th><th>type</th><th>title</th><th>country</th><th>date_added</th><th>release_year</th><th>rating</th><th>duration</th><th>description</th><th>duration_int</th><th>duration_type</th><th>added_year</th><th>added_month</th><th>type_label</th><th>rating_label</th><th>duration_type_label</th><th>country_onehot_South_Korea</th><th>country_onehot_France_Belgium_Luxembourg_Roma</th><th>country_onehot_Philippines_Qatar</th><th>country_onehot_France_Belgium_Italy</th><th>country_onehot_United_Kingdom_Spain</th><th>country_onehot_United_Kingdom_United_States_I</th><th>country_onehot_Italy_United_States</th><th>country_onehot_Thailand</th><th>country_onehot_United_States_United_Kingdom_F</th><th>country_onehot_Poland</th><th>country_onehot_Iceland</th><th>country_onehot_United_Kingdom_Germany_United_</th><th>country_onehot_United_States_Spain</th><th>country_onehot_China_United_States_Canada</th><th>country_onehot_Chile_Brazil</th><th>country_onehot_Lebanon</th><th>country_onehot_United_States_Colombia_Mexico</th><th>country_onehot_Italy</th><th>country_onehot_Thailand_China_United_States</th><th>country_onehot_Turkey_United_States</th><th>country_onehot_Belgium</th><th>country_onehot_United_States_Japan</th><th>country_onehot_China_Hong_Kong</th><th>country_onehot_Ireland</th><th>country_onehot_Philippines_Singapore</th><th>country_onehot_United_Kingdom_France_Belgium_</th><th>country_onehot_United_Kingdom_West_Germany</th><th>country_onehot_United_States_Philippines</th><th>country_onehot_Chile_France</th><th>country_onehot_United_States_France_Italy_Uni</th><th>country_onehot_India_United_States</th><th>country_onehot_South_Korea_United_States</th><th>country_onehot_France_United_States</th><th>country_onehot_Malaysia</th><th>country_onehot_South_Korea_Canada_United_Stat</th><th>country_onehot_Luxembourg</th><th>country_onehot_United_States_Denmark</th><th>country_onehot_Italy_Switzerland_Albania_Pola</th><th>country_onehot_United_States_Germany_Canada</th><th>country_onehot_Germany</th><th>country_onehot_Bangladesh</th><th>country_onehot_United_States_Czech_Republic</th><th>country_onehot_Hong_Kong_China</th><th>country_onehot_United_Kingdom_India</th><th>country_onehot_Pakistan</th><th>country_onehot_Mauritius_South_Africa</th><th>country_onehot_Denmark</th><th>country_onehot_United_States_India</th><th>country_onehot_United_Kingdom_Canada</th><th>country_onehot_Kenya</th><th>director_freq</th><th>cast_freq</th><th>listed_in_freq</th><th>release_year_normalized</th><th>duration_int_normalized</th><th>added_year_normalized</th><th>release_year_standardized</th><th>duration_int_standardized</th><th>added_year_standardized</th></tr></thead><tbody><tr><td>Children & Family Movies, Comedies</td><td>Elizabeth Daily, Christine Cavanaugh, Kath Soucie, Melanie Chartoff, Phil Proctor, Cree Summer, Cheryl Chase, Tara Strong, Jack Riley, Joe Alaskey, Michael Bell, Tress MacNeille, Busta Rhymes, Whoopi Goldberg, David Spade</td><td>Igor Kovalyov, Norton Virgien</td><td>s3476</td><td>movie</td><td>The Rugrats Movie</td><td>United States</td><td>October 1, 2019</td><td>1998.0</td><td>G</td><td>81 min</td><td>When his baby brother Dil is born, Tommy Pickles and his pals decide that he's too much responsibility and try to return him to the hospital.</td><td>81.0</td><td>minutes</td><td>2019.0</td><td>10.0</td><td>0</td><td>0</td><td>0</td><td>0</td><td>0</td><td>0</td><td>0</td><td>0</td><td>0</td><td>0</td><td>0</td><td>0</td><td>0</td><td>0</td><td>0</td><td>0</td><td>0</td><td>0</td><td>0</td><td>0</td><td>0</td><td>0</td><td>0</td><td>0</td><td>0</td><td>0</td><td>0</td><td>0</td><td>0</td><td>0</td><td>0</td><td>0</td><td>0</td><td>0</td><td>0</td><td>0</td><td>0</td><td>0</td><td>0</td><td>0</td><td>0</td><td>0</td><td>0</td><td>0</td><td>0</td><td>0</td><td>0</td><td>0</td><td>0</td><td>0</td><td>0</td><td>0</td><td>0</td><td>2.4372410431391665E-4</td><td>2.4372410431391665E-4</td><td>0.026322203265902996</td><td>0.7604166666666666</td><td>0.3389830508474576</td><td>0.8461538461538461</td><td>-1.8213699375939063</td><td>0.22359426038514474</td><td>0.08883451511406551</td></tr><tr><td>Children & Family Movies, Dramas</td><td>Richard Gere, Joan Allen, Cary-Hiroyuki Tagawa, Sarah Roemer, Jason Alexander, Erick Avari, Davenia McFadden, Robbie Sublett, Kevin DeCoste, Rob Degnan</td><td>Lasse Hallström</td><td>s934</td><td>movie</td><td>Hachi: A Dog's Tale</td><td>United Kingdom, United States</td><td>May 1, 2021</td><td>2009.0</td><td>G</td><td>93 min</td><td>When his master dies, a loyal pooch named Hachiko keeps a vigil for more than a decade at the train station where he once greeted his owner every day.</td><td>93.0</td><td>minutes</td><td>2021.0</td><td>5.0</td><td>0</td><td>0</td><td>0</td><td>0</td><td>0</td><td>0</td><td>0</td><td>0</td><td>0</td><td>0</td><td>0</td><td>0</td><td>0</td><td>0</td><td>0</td><td>0</td><td>0</td><td>0</td><td>0</td><td>0</td><td>0</td><td>0</td><td>0</td><td>0</td><td>0</td><td>0</td><td>0</td><td>0</td><td>0</td><td>0</td><td>0</td><td>0</td><td>0</td><td>0</td><td>0</td><td>0</td><td>0</td><td>0</td><td>0</td><td>0</td><td>0</td><td>0</td><td>0</td><td>0</td><td>0</td><td>0</td><td>0</td><td>0</td><td>0</td><td>0</td><td>0</td><td>0</td><td>0</td><td>9.748964172556666E-4</td><td>2.4372410431391665E-4</td><td>0.002680965147453083</td><td>0.875</td><td>0.3898305084745763</td><td>1.0</td><td>-0.5845144503466722</td><td>0.45798548428914293</td><td>1.3435264790132986</td></tr><tr><td>Children & Family Movies</td><td>Maurice LaMarche, Sean Astin, Keith Carradine, Charles Fleischer, Jodi Benson, Bill Fagerbakke, Charity James, Kathy Najimy, David Paymer, Jean Smart</td><td>Phil Weinstein</td><td>s6223</td><td>movie</td><td>Balto 3: Wings of Change</td><td>United States</td><td>April 1, 2018</td><td>2004.0</td><td>G</td><td>78 min</td><td>A pilot challenges Balto's son Kodi and his sled team to see who can deliver the mail faster, but the dogs race to the rescue when the plane vanishes.</td><td>78.0</td><td>minutes</td><td>2018.0</td><td>4.0</td><td>0</td><td>0</td><td>0</td><td>0</td><td>0</td><td>0</td><td>0</td><td>0</td><td>0</td><td>0</td><td>0</td><td>0</td><td>0</td><td>0</td><td>0</td><td>0</td><td>0</td><td>0</td><td>0</td><td>0</td><td>0</td><td>0</td><td>0</td><td>0</td><td>0</td><td>0</td><td>0</td><td>0</td><td>0</td><td>0</td><td>0</td><td>0</td><td>0</td><td>0</td><td>0</td><td>0</td><td>0</td><td>0</td><td>0</td><td>0</td><td>0</td><td>0</td><td>0</td><td>0</td><td>0</td><td>0</td><td>0</td><td>0</td><td>0</td><td>0</td><td>0</td><td>0</td><td>0</td><td>4.874482086278333E-4</td><td>2.4372410431391665E-4</td><td>0.022910065805508164</td><td>0.8229166666666666</td><td>0.326271186440678</td><td>0.7692307692307693</td><td>-1.1467214900045057</td><td>0.16499645440914518</td><td>-0.5385114668355511</td></tr><tr><td>Children & Family Movies, Comedies</td><td>Justin Fletcher, John Sparkes, Amalia Vitale, Kate Harbour, David Holt</td><td>Richard Phelan, Will Becher</td><td>s2912</td><td>movie</td><td>A Shaun the Sheep Movie: Farmageddon</td><td>United Kingdom, France, Belgium, Ireland, United States</td><td>February 14, 2020</td><td>2019.0</td><td>G</td><td>87 min</td><td>Shaun and the flock race to help an adorable alien find her way home after her ship crash-lands near Mossy Bottom Farm and sparks a UFO frenzy.</td><td>87.0</td><td>minutes</td><td>2020.0</td><td>2.0</td><td>0</td><td>0</td><td>0</td><td>0</td><td>0</td><td>0</td><td>0</td><td>0</td><td>0</td><td>0</td><td>0</td><td>0</td><td>0</td><td>0</td><td>0</td><td>0</td><td>0</td><td>0</td><td>0</td><td>0</td><td>0</td><td>0</td><td>0</td><td>0</td><td>0</td><td>0</td><td>0</td><td>0</td><td>1</td><td>0</td><td>0</td><td>0</td><td>0</td><td>0</td><td>0</td><td>0</td><td>0</td><td>0</td><td>0</td><td>0</td><td>0</td><td>0</td><td>0</td><td>0</td><td>0</td><td>0</td><td>0</td><td>0</td><td>0</td><td>0</td><td>0</td><td>0</td><td>0</td><td>2.4372410431391665E-4</td><td>2.4372410431391665E-4</td><td>0.026322203265902996</td><td>0.9791666666666666</td><td>0.3644067796610169</td><td>0.9230769230769231</td><td>0.5398996289689951</td><td>0.34078987233714386</td><td>0.716180497063682</td></tr><tr><td>Children & Family Movies</td><td>Sonja Ball, Craig Francis, Rick Jones, Michel Perron, Holly Gauthier-Frankel, Norman Groulx, Terrence Scammell, Bruce Dinsmore, Jennifer Seguin</td><td>Bernie Denk</td><td>s3545</td><td>movie</td><td>Spookley the Square Pumpkin</td><td>United States</td><td>September 1, 2019</td><td>2004.0</td><td>G</td><td>47 min</td><td>When a storm terrorizes his patch, a pumpkin cast out for his shape must step up to use his smarts to save the day – and to prove himself.</td><td>47.0</td><td>minutes</td><td>2019.0</td><td>9.0</td><td>0</td><td>0</td><td>0</td><td>0</td><td>0</td><td>0</td><td>0</td><td>0</td><td>0</td><td>0</td><td>0</td><td>0</td><td>0</td><td>0</td><td>0</td><td>0</td><td>0</td><td>0</td><td>0</td><td>0</td><td>0</td><td>0</td><td>0</td><td>0</td><td>0</td><td>0</td><td>0</td><td>0</td><td>0</td><td>0</td><td>0</td><td>0</td><td>0</td><td>0</td><td>0</td><td>0</td><td>0</td><td>0</td><td>0</td><td>0</td><td>0</td><td>0</td><td>0</td><td>0</td><td>0</td><td>0</td><td>0</td><td>0</td><td>0</td><td>0</td><td>0</td><td>0</td><td>0</td><td>4.874482086278333E-4</td><td>2.4372410431391665E-4</td><td>0.022910065805508164</td><td>0.8229166666666666</td><td>0.19491525423728814</td><td>0.8461538461538461</td><td>-1.1467214900045057</td><td>-0.44051420734285024</td><td>0.08883451511406551</td></tr></tbody></table></div>"
      ]
     },
     "metadata": {
      "application/vnd.databricks.v1+output": {
       "addedWidgets": {},
       "aggData": [],
       "aggError": "",
       "aggOverflow": false,
       "aggSchema": [],
       "aggSeriesLimitReached": false,
       "aggType": "",
       "arguments": {},
       "columnCustomDisplayInfos": {},
       "data": [
        [
         "Children & Family Movies, Comedies",
         "Elizabeth Daily, Christine Cavanaugh, Kath Soucie, Melanie Chartoff, Phil Proctor, Cree Summer, Cheryl Chase, Tara Strong, Jack Riley, Joe Alaskey, Michael Bell, Tress MacNeille, Busta Rhymes, Whoopi Goldberg, David Spade",
         "Igor Kovalyov, Norton Virgien",
         "s3476",
         "movie",
         "The Rugrats Movie",
         "United States",
         "October 1, 2019",
         1998.0,
         "G",
         "81 min",
         "When his baby brother Dil is born, Tommy Pickles and his pals decide that he's too much responsibility and try to return him to the hospital.",
         81.0,
         "minutes",
         2019.0,
         10.0,
         0,
         0,
         0,
         0,
         0,
         0,
         0,
         0,
         0,
         0,
         0,
         0,
         0,
         0,
         0,
         0,
         0,
         0,
         0,
         0,
         0,
         0,
         0,
         0,
         0,
         0,
         0,
         0,
         0,
         0,
         0,
         0,
         0,
         0,
         0,
         0,
         0,
         0,
         0,
         0,
         0,
         0,
         0,
         0,
         0,
         0,
         0,
         0,
         0,
         0,
         0,
         0,
         0,
         2.4372410431391665E-4,
         2.4372410431391665E-4,
         0.026322203265902996,
         0.7604166666666666,
         0.3389830508474576,
         0.8461538461538461,
         -1.8213699375939063,
         0.22359426038514474,
         0.08883451511406551
        ],
        [
         "Children & Family Movies, Dramas",
         "Richard Gere, Joan Allen, Cary-Hiroyuki Tagawa, Sarah Roemer, Jason Alexander, Erick Avari, Davenia McFadden, Robbie Sublett, Kevin DeCoste, Rob Degnan",
         "Lasse Hallström",
         "s934",
         "movie",
         "Hachi: A Dog's Tale",
         "United Kingdom, United States",
         "May 1, 2021",
         2009.0,
         "G",
         "93 min",
         "When his master dies, a loyal pooch named Hachiko keeps a vigil for more than a decade at the train station where he once greeted his owner every day.",
         93.0,
         "minutes",
         2021.0,
         5.0,
         0,
         0,
         0,
         0,
         0,
         0,
         0,
         0,
         0,
         0,
         0,
         0,
         0,
         0,
         0,
         0,
         0,
         0,
         0,
         0,
         0,
         0,
         0,
         0,
         0,
         0,
         0,
         0,
         0,
         0,
         0,
         0,
         0,
         0,
         0,
         0,
         0,
         0,
         0,
         0,
         0,
         0,
         0,
         0,
         0,
         0,
         0,
         0,
         0,
         0,
         0,
         0,
         0,
         9.748964172556666E-4,
         2.4372410431391665E-4,
         0.002680965147453083,
         0.875,
         0.3898305084745763,
         1.0,
         -0.5845144503466722,
         0.45798548428914293,
         1.3435264790132986
        ],
        [
         "Children & Family Movies",
         "Maurice LaMarche, Sean Astin, Keith Carradine, Charles Fleischer, Jodi Benson, Bill Fagerbakke, Charity James, Kathy Najimy, David Paymer, Jean Smart",
         "Phil Weinstein",
         "s6223",
         "movie",
         "Balto 3: Wings of Change",
         "United States",
         "April 1, 2018",
         2004.0,
         "G",
         "78 min",
         "A pilot challenges Balto's son Kodi and his sled team to see who can deliver the mail faster, but the dogs race to the rescue when the plane vanishes.",
         78.0,
         "minutes",
         2018.0,
         4.0,
         0,
         0,
         0,
         0,
         0,
         0,
         0,
         0,
         0,
         0,
         0,
         0,
         0,
         0,
         0,
         0,
         0,
         0,
         0,
         0,
         0,
         0,
         0,
         0,
         0,
         0,
         0,
         0,
         0,
         0,
         0,
         0,
         0,
         0,
         0,
         0,
         0,
         0,
         0,
         0,
         0,
         0,
         0,
         0,
         0,
         0,
         0,
         0,
         0,
         0,
         0,
         0,
         0,
         4.874482086278333E-4,
         2.4372410431391665E-4,
         0.022910065805508164,
         0.8229166666666666,
         0.326271186440678,
         0.7692307692307693,
         -1.1467214900045057,
         0.16499645440914518,
         -0.5385114668355511
        ],
        [
         "Children & Family Movies, Comedies",
         "Justin Fletcher, John Sparkes, Amalia Vitale, Kate Harbour, David Holt",
         "Richard Phelan, Will Becher",
         "s2912",
         "movie",
         "A Shaun the Sheep Movie: Farmageddon",
         "United Kingdom, France, Belgium, Ireland, United States",
         "February 14, 2020",
         2019.0,
         "G",
         "87 min",
         "Shaun and the flock race to help an adorable alien find her way home after her ship crash-lands near Mossy Bottom Farm and sparks a UFO frenzy.",
         87.0,
         "minutes",
         2020.0,
         2.0,
         0,
         0,
         0,
         0,
         0,
         0,
         0,
         0,
         0,
         0,
         0,
         0,
         0,
         0,
         0,
         0,
         0,
         0,
         0,
         0,
         0,
         0,
         0,
         0,
         0,
         0,
         0,
         0,
         1,
         0,
         0,
         0,
         0,
         0,
         0,
         0,
         0,
         0,
         0,
         0,
         0,
         0,
         0,
         0,
         0,
         0,
         0,
         0,
         0,
         0,
         0,
         0,
         0,
         2.4372410431391665E-4,
         2.4372410431391665E-4,
         0.026322203265902996,
         0.9791666666666666,
         0.3644067796610169,
         0.9230769230769231,
         0.5398996289689951,
         0.34078987233714386,
         0.716180497063682
        ],
        [
         "Children & Family Movies",
         "Sonja Ball, Craig Francis, Rick Jones, Michel Perron, Holly Gauthier-Frankel, Norman Groulx, Terrence Scammell, Bruce Dinsmore, Jennifer Seguin",
         "Bernie Denk",
         "s3545",
         "movie",
         "Spookley the Square Pumpkin",
         "United States",
         "September 1, 2019",
         2004.0,
         "G",
         "47 min",
         "When a storm terrorizes his patch, a pumpkin cast out for his shape must step up to use his smarts to save the day – and to prove himself.",
         47.0,
         "minutes",
         2019.0,
         9.0,
         0,
         0,
         0,
         0,
         0,
         0,
         0,
         0,
         0,
         0,
         0,
         0,
         0,
         0,
         0,
         0,
         0,
         0,
         0,
         0,
         0,
         0,
         0,
         0,
         0,
         0,
         0,
         0,
         0,
         0,
         0,
         0,
         0,
         0,
         0,
         0,
         0,
         0,
         0,
         0,
         0,
         0,
         0,
         0,
         0,
         0,
         0,
         0,
         0,
         0,
         0,
         0,
         0,
         4.874482086278333E-4,
         2.4372410431391665E-4,
         0.022910065805508164,
         0.8229166666666666,
         0.19491525423728814,
         0.8461538461538461,
         -1.1467214900045057,
         -0.44051420734285024,
         0.08883451511406551
        ]
       ],
       "datasetInfos": [],
       "dbfsResultPath": null,
       "isJsonSchema": true,
       "metadata": {},
       "overflow": false,
       "plotOptions": {
        "customPlotOptions": {},
        "displayType": "table",
        "pivotAggregation": null,
        "pivotColumns": null,
        "xColumns": null,
        "yColumns": null
       },
       "removedWidgets": [],
       "schema": [
        {
         "metadata": "{}",
         "name": "listed_in",
         "type": "\"string\""
        },
        {
         "metadata": "{}",
         "name": "cast",
         "type": "\"string\""
        },
        {
         "metadata": "{}",
         "name": "director",
         "type": "\"string\""
        },
        {
         "metadata": "{}",
         "name": "show_id",
         "type": "\"string\""
        },
        {
         "metadata": "{}",
         "name": "type",
         "type": "\"string\""
        },
        {
         "metadata": "{}",
         "name": "title",
         "type": "\"string\""
        },
        {
         "metadata": "{}",
         "name": "country",
         "type": "\"string\""
        },
        {
         "metadata": "{}",
         "name": "date_added",
         "type": "\"string\""
        },
        {
         "metadata": "{}",
         "name": "release_year",
         "type": "\"double\""
        },
        {
         "metadata": "{}",
         "name": "rating",
         "type": "\"string\""
        },
        {
         "metadata": "{}",
         "name": "duration",
         "type": "\"string\""
        },
        {
         "metadata": "{}",
         "name": "description",
         "type": "\"string\""
        },
        {
         "metadata": "{}",
         "name": "duration_int",
         "type": "\"double\""
        },
        {
         "metadata": "{}",
         "name": "duration_type",
         "type": "\"string\""
        },
        {
         "metadata": "{}",
         "name": "added_year",
         "type": "\"double\""
        },
        {
         "metadata": "{}",
         "name": "added_month",
         "type": "\"double\""
        },
        {
         "metadata": "{}",
         "name": "type_label",
         "type": "\"integer\""
        },
        {
         "metadata": "{}",
         "name": "rating_label",
         "type": "\"integer\""
        },
        {
         "metadata": "{}",
         "name": "duration_type_label",
         "type": "\"integer\""
        },
        {
         "metadata": "{}",
         "name": "country_onehot_South_Korea",
         "type": "\"integer\""
        },
        {
         "metadata": "{}",
         "name": "country_onehot_France_Belgium_Luxembourg_Roma",
         "type": "\"integer\""
        },
        {
         "metadata": "{}",
         "name": "country_onehot_Philippines_Qatar",
         "type": "\"integer\""
        },
        {
         "metadata": "{}",
         "name": "country_onehot_France_Belgium_Italy",
         "type": "\"integer\""
        },
        {
         "metadata": "{}",
         "name": "country_onehot_United_Kingdom_Spain",
         "type": "\"integer\""
        },
        {
         "metadata": "{}",
         "name": "country_onehot_United_Kingdom_United_States_I",
         "type": "\"integer\""
        },
        {
         "metadata": "{}",
         "name": "country_onehot_Italy_United_States",
         "type": "\"integer\""
        },
        {
         "metadata": "{}",
         "name": "country_onehot_Thailand",
         "type": "\"integer\""
        },
        {
         "metadata": "{}",
         "name": "country_onehot_United_States_United_Kingdom_F",
         "type": "\"integer\""
        },
        {
         "metadata": "{}",
         "name": "country_onehot_Poland",
         "type": "\"integer\""
        },
        {
         "metadata": "{}",
         "name": "country_onehot_Iceland",
         "type": "\"integer\""
        },
        {
         "metadata": "{}",
         "name": "country_onehot_United_Kingdom_Germany_United_",
         "type": "\"integer\""
        },
        {
         "metadata": "{}",
         "name": "country_onehot_United_States_Spain",
         "type": "\"integer\""
        },
        {
         "metadata": "{}",
         "name": "country_onehot_China_United_States_Canada",
         "type": "\"integer\""
        },
        {
         "metadata": "{}",
         "name": "country_onehot_Chile_Brazil",
         "type": "\"integer\""
        },
        {
         "metadata": "{}",
         "name": "country_onehot_Lebanon",
         "type": "\"integer\""
        },
        {
         "metadata": "{}",
         "name": "country_onehot_United_States_Colombia_Mexico",
         "type": "\"integer\""
        },
        {
         "metadata": "{}",
         "name": "country_onehot_Italy",
         "type": "\"integer\""
        },
        {
         "metadata": "{}",
         "name": "country_onehot_Thailand_China_United_States",
         "type": "\"integer\""
        },
        {
         "metadata": "{}",
         "name": "country_onehot_Turkey_United_States",
         "type": "\"integer\""
        },
        {
         "metadata": "{}",
         "name": "country_onehot_Belgium",
         "type": "\"integer\""
        },
        {
         "metadata": "{}",
         "name": "country_onehot_United_States_Japan",
         "type": "\"integer\""
        },
        {
         "metadata": "{}",
         "name": "country_onehot_China_Hong_Kong",
         "type": "\"integer\""
        },
        {
         "metadata": "{}",
         "name": "country_onehot_Ireland",
         "type": "\"integer\""
        },
        {
         "metadata": "{}",
         "name": "country_onehot_Philippines_Singapore",
         "type": "\"integer\""
        },
        {
         "metadata": "{}",
         "name": "country_onehot_United_Kingdom_France_Belgium_",
         "type": "\"integer\""
        },
        {
         "metadata": "{}",
         "name": "country_onehot_United_Kingdom_West_Germany",
         "type": "\"integer\""
        },
        {
         "metadata": "{}",
         "name": "country_onehot_United_States_Philippines",
         "type": "\"integer\""
        },
        {
         "metadata": "{}",
         "name": "country_onehot_Chile_France",
         "type": "\"integer\""
        },
        {
         "metadata": "{}",
         "name": "country_onehot_United_States_France_Italy_Uni",
         "type": "\"integer\""
        },
        {
         "metadata": "{}",
         "name": "country_onehot_India_United_States",
         "type": "\"integer\""
        },
        {
         "metadata": "{}",
         "name": "country_onehot_South_Korea_United_States",
         "type": "\"integer\""
        },
        {
         "metadata": "{}",
         "name": "country_onehot_France_United_States",
         "type": "\"integer\""
        },
        {
         "metadata": "{}",
         "name": "country_onehot_Malaysia",
         "type": "\"integer\""
        },
        {
         "metadata": "{}",
         "name": "country_onehot_South_Korea_Canada_United_Stat",
         "type": "\"integer\""
        },
        {
         "metadata": "{}",
         "name": "country_onehot_Luxembourg",
         "type": "\"integer\""
        },
        {
         "metadata": "{}",
         "name": "country_onehot_United_States_Denmark",
         "type": "\"integer\""
        },
        {
         "metadata": "{}",
         "name": "country_onehot_Italy_Switzerland_Albania_Pola",
         "type": "\"integer\""
        },
        {
         "metadata": "{}",
         "name": "country_onehot_United_States_Germany_Canada",
         "type": "\"integer\""
        },
        {
         "metadata": "{}",
         "name": "country_onehot_Germany",
         "type": "\"integer\""
        },
        {
         "metadata": "{}",
         "name": "country_onehot_Bangladesh",
         "type": "\"integer\""
        },
        {
         "metadata": "{}",
         "name": "country_onehot_United_States_Czech_Republic",
         "type": "\"integer\""
        },
        {
         "metadata": "{}",
         "name": "country_onehot_Hong_Kong_China",
         "type": "\"integer\""
        },
        {
         "metadata": "{}",
         "name": "country_onehot_United_Kingdom_India",
         "type": "\"integer\""
        },
        {
         "metadata": "{}",
         "name": "country_onehot_Pakistan",
         "type": "\"integer\""
        },
        {
         "metadata": "{}",
         "name": "country_onehot_Mauritius_South_Africa",
         "type": "\"integer\""
        },
        {
         "metadata": "{}",
         "name": "country_onehot_Denmark",
         "type": "\"integer\""
        },
        {
         "metadata": "{}",
         "name": "country_onehot_United_States_India",
         "type": "\"integer\""
        },
        {
         "metadata": "{}",
         "name": "country_onehot_United_Kingdom_Canada",
         "type": "\"integer\""
        },
        {
         "metadata": "{}",
         "name": "country_onehot_Kenya",
         "type": "\"integer\""
        },
        {
         "metadata": "{}",
         "name": "director_freq",
         "type": "\"double\""
        },
        {
         "metadata": "{}",
         "name": "cast_freq",
         "type": "\"double\""
        },
        {
         "metadata": "{}",
         "name": "listed_in_freq",
         "type": "\"double\""
        },
        {
         "metadata": "{}",
         "name": "release_year_normalized",
         "type": "\"double\""
        },
        {
         "metadata": "{}",
         "name": "duration_int_normalized",
         "type": "\"double\""
        },
        {
         "metadata": "{}",
         "name": "added_year_normalized",
         "type": "\"double\""
        },
        {
         "metadata": "{}",
         "name": "release_year_standardized",
         "type": "\"double\""
        },
        {
         "metadata": "{}",
         "name": "duration_int_standardized",
         "type": "\"double\""
        },
        {
         "metadata": "{}",
         "name": "added_year_standardized",
         "type": "\"double\""
        }
       ],
       "type": "table"
      }
     },
     "output_type": "display_data"
    }
   ],
   "source": [
    "display(df.limit(5))"
   ]
  },
  {
   "cell_type": "code",
   "execution_count": 0,
   "metadata": {
    "application/vnd.databricks.v1+cell": {
     "cellMetadata": {
      "byteLimit": 2048000,
      "rowLimit": 10000
     },
     "inputWidgets": {},
     "nuid": "526dcf4e-bf97-4069-bda4-ee846f8a1a0f",
     "showTitle": false,
     "tableResultSettingsMap": {},
     "title": ""
    }
   },
   "outputs": [
    {
     "output_type": "stream",
     "name": "stdout",
     "output_type": "stream",
     "text": [
      "\n==================================================\nSAVING PROCESSED DATA\n==================================================\n"
     ]
    },
    {
     "output_type": "stream",
     "name": "stderr",
     "output_type": "stream",
     "text": [
      "/databricks/python/lib/python3.12/site-packages/pyspark/sql/connect/expressions.py:1061: UserWarning: WARN WindowExpression: No Partition Defined for Window operation! Moving all data to a single partition, this can cause serious performance degradation.\n  warnings.warn(\n"
     ]
    },
    {
     "output_type": "stream",
     "name": "stdout",
     "output_type": "stream",
     "text": [
      "✓ Data saved successfully to: /Volumes/workspace/default/netflix/netflix_processed\n\n==================================================\nPROCESSING COMPLETE!\n==================================================\n\n✓ All encodings completed successfully using Databricks Serverless!\n"
     ]
    }
   ],
   "source": [
    "print(\"\\n\" + \"=\"*50)\n",
    "print(\"SAVING PROCESSED DATA\")\n",
    "print(\"=\"*50)\n",
    "\n",
    "try:\n",
    "    output_path = \"/Volumes/workspace/default/netflix/netflix_processed\"\n",
    "    df.write.format(\"delta\").mode(\"overwrite\").save(output_path)\n",
    "    print(f\"✓ Data saved successfully to: {output_path}\")\n",
    "except Exception as e:\n",
    "    print(f\"⚠ Error saving data: {e}\")\n",
    "    print(\"Attempting to save to alternative location...\")\n",
    "    try:\n",
    "        df.write.format(\"parquet\").mode(\"overwrite\").save(\"/tmp/netflix_processed\")\n",
    "        print(\"✓ Data saved to /tmp/netflix_processed\")\n",
    "    except Exception as e2:\n",
    "        print(f\"✗ Failed to save: {e2}\")\n",
    "\n",
    "print(\"\\n\" + \"=\"*50)\n",
    "print(\"PROCESSING COMPLETE!\")\n",
    "print(\"=\"*50)\n",
    "print(\"\\n✓ All encodings completed successfully using Databricks Serverless!\")"
   ]
  },
  {
   "cell_type": "code",
   "execution_count": 0,
   "metadata": {
    "application/vnd.databricks.v1+cell": {
     "cellMetadata": {
      "byteLimit": 2048000,
      "rowLimit": 10000
     },
     "inputWidgets": {},
     "nuid": "3fd1cbd3-004c-4ab9-ad90-4d037a495c89",
     "showTitle": false,
     "tableResultSettingsMap": {},
     "title": ""
    }
   },
   "outputs": [],
   "source": []
  }
 ],
 "metadata": {
  "application/vnd.databricks.v1+notebook": {
   "computePreferences": null,
   "dashboards": [],
   "environmentMetadata": {
    "base_environment": "",
    "environment_version": "3"
   },
   "inputWidgetPreferences": null,
   "language": "python",
   "notebookMetadata": {
    "pythonIndentUnit": 4
   },
   "notebookName": "netflix_normalisation_kt",
   "widgets": {}
  },
  "language_info": {
   "name": "python"
  }
 },
 "nbformat": 4,
 "nbformat_minor": 0
}